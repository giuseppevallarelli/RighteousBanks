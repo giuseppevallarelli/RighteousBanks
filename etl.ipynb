{
 "cells": [
  {
   "cell_type": "code",
   "execution_count": 1,
   "outputs": [],
   "source": [
    "from datetime import date\n",
    "\n",
    "import pandas as pd"
   ],
   "metadata": {
    "collapsed": false,
    "ExecuteTime": {
     "end_time": "2023-07-25T15:19:49.794885Z",
     "start_time": "2023-07-25T15:19:49.481947Z"
    }
   }
  },
  {
   "cell_type": "code",
   "execution_count": 2,
   "outputs": [],
   "source": [
    "df = pd.read_csv('data/reviews.csv')"
   ],
   "metadata": {
    "collapsed": false,
    "ExecuteTime": {
     "end_time": "2023-07-25T15:19:52.007883Z",
     "start_time": "2023-07-25T15:19:51.995243Z"
    }
   }
  },
  {
   "cell_type": "code",
   "execution_count": 3,
   "outputs": [
    {
     "data": {
      "text/plain": "(1406, 11)"
     },
     "execution_count": 3,
     "metadata": {},
     "output_type": "execute_result"
    }
   ],
   "source": [
    "df.shape"
   ],
   "metadata": {
    "collapsed": false,
    "ExecuteTime": {
     "end_time": "2023-07-25T15:19:52.558003Z",
     "start_time": "2023-07-25T15:19:52.554238Z"
    }
   }
  },
  {
   "cell_type": "code",
   "execution_count": 4,
   "outputs": [],
   "source": [
    "df = df.drop_duplicates()"
   ],
   "metadata": {
    "collapsed": false,
    "ExecuteTime": {
     "end_time": "2023-07-25T15:19:53.591205Z",
     "start_time": "2023-07-25T15:19:53.582680Z"
    }
   }
  },
  {
   "cell_type": "code",
   "execution_count": 5,
   "outputs": [
    {
     "data": {
      "text/plain": "(1399, 11)"
     },
     "execution_count": 5,
     "metadata": {},
     "output_type": "execute_result"
    }
   ],
   "source": [
    "df.shape"
   ],
   "metadata": {
    "collapsed": false,
    "ExecuteTime": {
     "end_time": "2023-07-25T15:19:55.184952Z",
     "start_time": "2023-07-25T15:19:55.177666Z"
    }
   }
  },
  {
   "cell_type": "code",
   "execution_count": 6,
   "outputs": [
    {
     "data": {
      "text/plain": "               bank       user_name  \\\n0             qonto         Alessio   \n1    trade-republic          Fulvio   \n2         santander           Mauro   \n3         santander  Laritza Iznaga   \n4            tinaba         Giacomo   \n5            tinaba   Mauro Sartore   \n6            tinaba            Luca   \n7  american-express         Daniele   \n8          illimity          Andrea   \n9          illimity         Alberto   \n\n                                           title               date  \\\n0                      Qonto per la mia attività     21 Giugno 2023   \n1                  Conto deposito trade republic     21 Giugno 2023   \n2                                  Finanziamento      21 Marzo 2023   \n3                                         Deluso  24 Settembre 2022   \n4                      Conto deposito con Tinaba     21 Giugno 2023   \n5                                   precisazione   18 Febbraio 2022   \n6  Il conto e la carta che cercavo. Eccezionale!   23 Dicembre 2021   \n7                            La uso tutti i mesi   01 Dicembre 2019   \n8                                       Traverso    04 Gennaio 2020   \n9                           C/c facile da aprire   25 Novembre 2019   \n\n                                              review  home_banking  security  \\\n0  Da libero professionista, Qonto è stata una pi...           100        80   \n1  Ho iniziato ad utilizzare Trade Republic per p...            80       100   \n2  Buonasera\\nHo chiesto un finanziamento di 2500...            40        20   \n3  Buongiorno come prima esperienza con la Banca ...            20        20   \n4  Investire nel conto deposito di Tinaba è stata...           100        80   \n5  Solo per specificare che contrariamente a quan...           100       100   \n6  Ho aperto Tinaba da qualche mese e penso che a...           100       100   \n7  Molto facile da usare con app che ti indica i ...           100       100   \n8  Assolutamente non ci siamo, iniziate le pratic...            20        20   \n9  Conto corrente online facile da utilizzare ed ...           100       100   \n\n   support  promotions  services  local_presence  \n0       80         100       100              60  \n1       80          80        80             100  \n2       20          20        20              20  \n3       20          20        20              20  \n4       80         100        80              60  \n5      100         100       100             100  \n6      100          80        80              20  \n7      100         100        60              40  \n8       20          20        20              20  \n9       80         100       100              60  ",
      "text/html": "<div>\n<style scoped>\n    .dataframe tbody tr th:only-of-type {\n        vertical-align: middle;\n    }\n\n    .dataframe tbody tr th {\n        vertical-align: top;\n    }\n\n    .dataframe thead th {\n        text-align: right;\n    }\n</style>\n<table border=\"1\" class=\"dataframe\">\n  <thead>\n    <tr style=\"text-align: right;\">\n      <th></th>\n      <th>bank</th>\n      <th>user_name</th>\n      <th>title</th>\n      <th>date</th>\n      <th>review</th>\n      <th>home_banking</th>\n      <th>security</th>\n      <th>support</th>\n      <th>promotions</th>\n      <th>services</th>\n      <th>local_presence</th>\n    </tr>\n  </thead>\n  <tbody>\n    <tr>\n      <th>0</th>\n      <td>qonto</td>\n      <td>Alessio</td>\n      <td>Qonto per la mia attività</td>\n      <td>21 Giugno 2023</td>\n      <td>Da libero professionista, Qonto è stata una pi...</td>\n      <td>100</td>\n      <td>80</td>\n      <td>80</td>\n      <td>100</td>\n      <td>100</td>\n      <td>60</td>\n    </tr>\n    <tr>\n      <th>1</th>\n      <td>trade-republic</td>\n      <td>Fulvio</td>\n      <td>Conto deposito trade republic</td>\n      <td>21 Giugno 2023</td>\n      <td>Ho iniziato ad utilizzare Trade Republic per p...</td>\n      <td>80</td>\n      <td>100</td>\n      <td>80</td>\n      <td>80</td>\n      <td>80</td>\n      <td>100</td>\n    </tr>\n    <tr>\n      <th>2</th>\n      <td>santander</td>\n      <td>Mauro</td>\n      <td>Finanziamento</td>\n      <td>21 Marzo 2023</td>\n      <td>Buonasera\\nHo chiesto un finanziamento di 2500...</td>\n      <td>40</td>\n      <td>20</td>\n      <td>20</td>\n      <td>20</td>\n      <td>20</td>\n      <td>20</td>\n    </tr>\n    <tr>\n      <th>3</th>\n      <td>santander</td>\n      <td>Laritza Iznaga</td>\n      <td>Deluso</td>\n      <td>24 Settembre 2022</td>\n      <td>Buongiorno come prima esperienza con la Banca ...</td>\n      <td>20</td>\n      <td>20</td>\n      <td>20</td>\n      <td>20</td>\n      <td>20</td>\n      <td>20</td>\n    </tr>\n    <tr>\n      <th>4</th>\n      <td>tinaba</td>\n      <td>Giacomo</td>\n      <td>Conto deposito con Tinaba</td>\n      <td>21 Giugno 2023</td>\n      <td>Investire nel conto deposito di Tinaba è stata...</td>\n      <td>100</td>\n      <td>80</td>\n      <td>80</td>\n      <td>100</td>\n      <td>80</td>\n      <td>60</td>\n    </tr>\n    <tr>\n      <th>5</th>\n      <td>tinaba</td>\n      <td>Mauro Sartore</td>\n      <td>precisazione</td>\n      <td>18 Febbraio 2022</td>\n      <td>Solo per specificare che contrariamente a quan...</td>\n      <td>100</td>\n      <td>100</td>\n      <td>100</td>\n      <td>100</td>\n      <td>100</td>\n      <td>100</td>\n    </tr>\n    <tr>\n      <th>6</th>\n      <td>tinaba</td>\n      <td>Luca</td>\n      <td>Il conto e la carta che cercavo. Eccezionale!</td>\n      <td>23 Dicembre 2021</td>\n      <td>Ho aperto Tinaba da qualche mese e penso che a...</td>\n      <td>100</td>\n      <td>100</td>\n      <td>100</td>\n      <td>80</td>\n      <td>80</td>\n      <td>20</td>\n    </tr>\n    <tr>\n      <th>7</th>\n      <td>american-express</td>\n      <td>Daniele</td>\n      <td>La uso tutti i mesi</td>\n      <td>01 Dicembre 2019</td>\n      <td>Molto facile da usare con app che ti indica i ...</td>\n      <td>100</td>\n      <td>100</td>\n      <td>100</td>\n      <td>100</td>\n      <td>60</td>\n      <td>40</td>\n    </tr>\n    <tr>\n      <th>8</th>\n      <td>illimity</td>\n      <td>Andrea</td>\n      <td>Traverso</td>\n      <td>04 Gennaio 2020</td>\n      <td>Assolutamente non ci siamo, iniziate le pratic...</td>\n      <td>20</td>\n      <td>20</td>\n      <td>20</td>\n      <td>20</td>\n      <td>20</td>\n      <td>20</td>\n    </tr>\n    <tr>\n      <th>9</th>\n      <td>illimity</td>\n      <td>Alberto</td>\n      <td>C/c facile da aprire</td>\n      <td>25 Novembre 2019</td>\n      <td>Conto corrente online facile da utilizzare ed ...</td>\n      <td>100</td>\n      <td>100</td>\n      <td>80</td>\n      <td>100</td>\n      <td>100</td>\n      <td>60</td>\n    </tr>\n  </tbody>\n</table>\n</div>"
     },
     "execution_count": 6,
     "metadata": {},
     "output_type": "execute_result"
    }
   ],
   "source": [
    "df.head(10)"
   ],
   "metadata": {
    "collapsed": false,
    "ExecuteTime": {
     "end_time": "2023-07-25T15:19:56.990318Z",
     "start_time": "2023-07-25T15:19:56.979501Z"
    }
   }
  },
  {
   "cell_type": "markdown",
   "source": [
    "In terms of scores we consider only the following: `home_banking`, `support` and `local_presence`"
   ],
   "metadata": {
    "collapsed": false
   }
  },
  {
   "cell_type": "code",
   "execution_count": 7,
   "outputs": [],
   "source": [
    "df = df[['bank', 'user_name', 'title', 'date', 'review', 'home_banking', 'support', 'local_presence']]"
   ],
   "metadata": {
    "collapsed": false,
    "ExecuteTime": {
     "end_time": "2023-07-25T15:20:12.310927Z",
     "start_time": "2023-07-25T15:20:12.301500Z"
    }
   }
  },
  {
   "cell_type": "code",
   "execution_count": 8,
   "outputs": [],
   "source": [
    "def convert_date_str(date_str):\n",
    "    it_month_number_map = {\n",
    "        'gennaio': '01', 'febbraio': '02', 'marzo': '03', 'aprile': '04',\n",
    "        'maggio': '05', 'giugno': '06', 'luglio': '07', 'agosto': '08',\n",
    "        'settembre': '09', 'ottobre': '10', 'novembre': '11', 'dicembre': '12'\n",
    "    }\n",
    "    day, month_italian, year = date_str.split(' ')\n",
    "    month = it_month_number_map[month_italian.lower()]\n",
    "    return date(int(year), int(month), int(month))"
   ],
   "metadata": {
    "collapsed": false,
    "ExecuteTime": {
     "end_time": "2023-07-25T15:20:15.406833Z",
     "start_time": "2023-07-25T15:20:15.397218Z"
    }
   }
  },
  {
   "cell_type": "code",
   "execution_count": 9,
   "outputs": [],
   "source": [
    "df['date'] = df['date'].apply(convert_date_str)"
   ],
   "metadata": {
    "collapsed": false,
    "ExecuteTime": {
     "end_time": "2023-07-25T15:20:17.717554Z",
     "start_time": "2023-07-25T15:20:17.709548Z"
    }
   }
  },
  {
   "cell_type": "code",
   "execution_count": 10,
   "outputs": [
    {
     "data": {
      "text/plain": "             bank       user_name                          title        date  \\\n0           qonto         Alessio      Qonto per la mia attività  2023-06-06   \n1  trade-republic          Fulvio  Conto deposito trade republic  2023-06-06   \n2       santander           Mauro                  Finanziamento  2023-03-03   \n3       santander  Laritza Iznaga                         Deluso  2022-09-09   \n4          tinaba         Giacomo      Conto deposito con Tinaba  2023-06-06   \n\n                                              review  home_banking  support  \\\n0  Da libero professionista, Qonto è stata una pi...           100       80   \n1  Ho iniziato ad utilizzare Trade Republic per p...            80       80   \n2  Buonasera\\nHo chiesto un finanziamento di 2500...            40       20   \n3  Buongiorno come prima esperienza con la Banca ...            20       20   \n4  Investire nel conto deposito di Tinaba è stata...           100       80   \n\n   local_presence  \n0              60  \n1             100  \n2              20  \n3              20  \n4              60  ",
      "text/html": "<div>\n<style scoped>\n    .dataframe tbody tr th:only-of-type {\n        vertical-align: middle;\n    }\n\n    .dataframe tbody tr th {\n        vertical-align: top;\n    }\n\n    .dataframe thead th {\n        text-align: right;\n    }\n</style>\n<table border=\"1\" class=\"dataframe\">\n  <thead>\n    <tr style=\"text-align: right;\">\n      <th></th>\n      <th>bank</th>\n      <th>user_name</th>\n      <th>title</th>\n      <th>date</th>\n      <th>review</th>\n      <th>home_banking</th>\n      <th>support</th>\n      <th>local_presence</th>\n    </tr>\n  </thead>\n  <tbody>\n    <tr>\n      <th>0</th>\n      <td>qonto</td>\n      <td>Alessio</td>\n      <td>Qonto per la mia attività</td>\n      <td>2023-06-06</td>\n      <td>Da libero professionista, Qonto è stata una pi...</td>\n      <td>100</td>\n      <td>80</td>\n      <td>60</td>\n    </tr>\n    <tr>\n      <th>1</th>\n      <td>trade-republic</td>\n      <td>Fulvio</td>\n      <td>Conto deposito trade republic</td>\n      <td>2023-06-06</td>\n      <td>Ho iniziato ad utilizzare Trade Republic per p...</td>\n      <td>80</td>\n      <td>80</td>\n      <td>100</td>\n    </tr>\n    <tr>\n      <th>2</th>\n      <td>santander</td>\n      <td>Mauro</td>\n      <td>Finanziamento</td>\n      <td>2023-03-03</td>\n      <td>Buonasera\\nHo chiesto un finanziamento di 2500...</td>\n      <td>40</td>\n      <td>20</td>\n      <td>20</td>\n    </tr>\n    <tr>\n      <th>3</th>\n      <td>santander</td>\n      <td>Laritza Iznaga</td>\n      <td>Deluso</td>\n      <td>2022-09-09</td>\n      <td>Buongiorno come prima esperienza con la Banca ...</td>\n      <td>20</td>\n      <td>20</td>\n      <td>20</td>\n    </tr>\n    <tr>\n      <th>4</th>\n      <td>tinaba</td>\n      <td>Giacomo</td>\n      <td>Conto deposito con Tinaba</td>\n      <td>2023-06-06</td>\n      <td>Investire nel conto deposito di Tinaba è stata...</td>\n      <td>100</td>\n      <td>80</td>\n      <td>60</td>\n    </tr>\n  </tbody>\n</table>\n</div>"
     },
     "execution_count": 10,
     "metadata": {},
     "output_type": "execute_result"
    }
   ],
   "source": [
    "df.head()"
   ],
   "metadata": {
    "collapsed": false,
    "ExecuteTime": {
     "end_time": "2023-07-25T15:20:19.785757Z",
     "start_time": "2023-07-25T15:20:19.780455Z"
    }
   }
  },
  {
   "cell_type": "markdown",
   "source": [
    "Cariparma has been acquired by Crédit Agricole, we rename matching rows in the dataset"
   ],
   "metadata": {
    "collapsed": false
   }
  },
  {
   "cell_type": "code",
   "execution_count": 11,
   "outputs": [],
   "source": [
    "cariparma_filter = df['bank'] == 'cariparma'"
   ],
   "metadata": {
    "collapsed": false,
    "ExecuteTime": {
     "end_time": "2023-07-25T15:20:31.296977Z",
     "start_time": "2023-07-25T15:20:31.289695Z"
    }
   }
  },
  {
   "cell_type": "code",
   "execution_count": 12,
   "outputs": [],
   "source": [
    "df.loc[cariparma_filter, 'bank'] = 'credit-agricole'"
   ],
   "metadata": {
    "collapsed": false,
    "ExecuteTime": {
     "end_time": "2023-07-25T15:20:33.493800Z",
     "start_time": "2023-07-25T15:20:33.489250Z"
    }
   }
  },
  {
   "cell_type": "code",
   "execution_count": 13,
   "outputs": [],
   "source": [
    "selected_banks = ['widiba', 'monte-dei-paschi-di-siena', 'banca-popolare-di-milano', 'bnl', 'che-banca', 'ing-direct', 'intesa-sanpaolo', 'unicredit', 'banca-sella', 'credit-agricole']"
   ],
   "metadata": {
    "collapsed": false,
    "ExecuteTime": {
     "end_time": "2023-07-25T15:20:37.875706Z",
     "start_time": "2023-07-25T15:20:37.869011Z"
    }
   }
  },
  {
   "cell_type": "code",
   "execution_count": 14,
   "outputs": [],
   "source": [
    "df = df.loc[df['bank'].isin(selected_banks)]"
   ],
   "metadata": {
    "collapsed": false,
    "ExecuteTime": {
     "end_time": "2023-07-25T15:20:48.068444Z",
     "start_time": "2023-07-25T15:20:48.060291Z"
    }
   }
  },
  {
   "cell_type": "markdown",
   "source": [
    "We drop rows which don't have score for columns of interest"
   ],
   "metadata": {
    "collapsed": false
   }
  },
  {
   "cell_type": "code",
   "execution_count": 15,
   "outputs": [],
   "source": [
    "rows_with_no_score = (df['home_banking'] == 0) | (df['support'] == 0) | (df['local_presence'] == 0)"
   ],
   "metadata": {
    "collapsed": false,
    "ExecuteTime": {
     "end_time": "2023-07-25T15:20:56.106229Z",
     "start_time": "2023-07-25T15:20:56.097675Z"
    }
   }
  },
  {
   "cell_type": "code",
   "execution_count": 16,
   "outputs": [
    {
     "data": {
      "text/plain": "                          bank  \\\n418                        bnl   \n419                        bnl   \n439                banca-sella   \n440                banca-sella   \n441                banca-sella   \n654                 ing-direct   \n655                 ing-direct   \n656                 ing-direct   \n657                 ing-direct   \n658                 ing-direct   \n659                 ing-direct   \n760                  che-banca   \n761                  che-banca   \n762                  che-banca   \n763                  che-banca   \n844                  unicredit   \n845                  unicredit   \n846                  unicredit   \n847                  unicredit   \n848                  unicredit   \n885   banca-popolare-di-milano   \n886   banca-popolare-di-milano   \n917            credit-agricole   \n918            credit-agricole   \n1401           intesa-sanpaolo   \n1402           intesa-sanpaolo   \n1403           intesa-sanpaolo   \n1404           intesa-sanpaolo   \n1405           intesa-sanpaolo   \n\n                                              user_name  \\\n418                                            Sas_Agne   \n419                                              Monica   \n439                                         bilbo061075   \n440                                            Sas_Agne   \n441                                              Monica   \n654                                     cesare colaiuta   \n655                                              Sandro   \n656                                            Giuseppe   \n657                                               LUIGI   \n658                                              Matteo   \n659                                             Antonio   \n760                                              Monica   \n761                                             siarhey   \n762                                            ruggiero   \n763                                              Victor   \n844                                              Jacopo   \n845                                               Luigi   \n846                                           ultraline   \n847                                             Wallace   \n848                                               Dario   \n885                                             Moni_85   \n886                                             Moni_85   \n917                                              Annina   \n918                                             Sabrina   \n1401                                     giosuè piscopo   \n1402                                     giosuè piscopo   \n1403  Salve a tutti...io sono molto soddisfatta del ...   \n1404                                         Alessandro   \n1405                                               Niko   \n\n                                         title        date  \\\n418                                      buono  2010-11-11   \n419                           Perte Revolution  2010-11-11   \n439                                un disastro  2012-10-10   \n440                                   mediocre  2010-12-12   \n441             conto corrente online scadente  2010-11-11   \n654                                 Eccellente  2014-03-03   \n655              conto corrente ok, mutui meno  2014-02-02   \n656                                        Ing  2014-02-02   \n657             SERVIZIO CLIENTI CONTO ARANCIO  2014-02-02   \n658                                   Perfetto  2014-02-02   \n659            Conto corrente (super gratuito)  2010-10-10   \n760                      Esperienza Che Banca|  2014-02-02   \n761            Efficienza al ordine del giorno  2014-02-02   \n762                         conto tascabile ok  2011-07-07   \n763                        IO SONO SODDISFATTO  2010-10-10   \n844                  Assolutamente soddisfatto  2014-03-03   \n845                                   Opinione  2014-02-02   \n846                  pessimo istituto bancario  2013-10-10   \n847                 Istituto bancario scadente  2012-10-10   \n848                               Spese Nulle.  2010-09-09   \n885                                   Mi piace  2010-11-11   \n886                                        BPM  2010-07-07   \n917                              non provarci!  2010-07-07   \n918                          prelievi gratuiti  2010-05-05   \n1401                         servizio precario  2014-02-02   \n1402                    remunerazione depositi  2014-02-02   \n1403                                 GRAZIE!!!  2014-02-02   \n1404                           Una banca umana  2010-07-07   \n1405  Conto conveniente e buon servizio online  2010-04-04   \n\n                                                 review  home_banking  \\\n418   Ciao,\\n\\nsono una casalinga e ho il conto corr...             0   \n419   ciao a tutti!\\n\\n\\nho 25 anni e ho attivato il...             0   \n439   Purtroppo ho avuto a che fare quasi un anno co...             0   \n440   il conto corrente internet di sella è soddisfa...             0   \n441   Ho attivato il conto corrente Tuo click perché...             0   \n654   L'unica limitazione sonno i preieievi gratuiti...             0   \n655   Il conto consente di tare praticamente tutto o...             0   \n656   Competenti e cordiali, da tanti anni loro clie...             0   \n657   Conto Arancio richiesto direttamente in filial...             0   \n658   Un conto attivato in maniera abbastanza facile...             0   \n659   Io ho da circa 2 anni il conto corrente con IN...             0   \n760   Non hanno molti uffici sul territorio, ma il s...             0   \n761   Servizio telefonico ottimo, invio delle carte ...             0   \n762   conto tascabile fantastico per giovani e per c...             0   \n763   Sono con che banca da oltre 1 anno e ve la con...             0   \n844   Un ottimo servizio clienti, un'area clienti on...             0   \n845   Ottima azienda efficiemte comprovata negli ann...             0   \n846   purtroppo ho un conto bancario con affidamento...             0   \n847   Purtroppo ho avuto un conto unicredit per dive...             0   \n848   Ho un conto Genius ed essendo studente è molto...             0   \n885   Questa banca mi piace, funziona tutto e non ho...             0   \n886   la Banca popolare di milano è una banca sicura...             0   \n917   ho il conto corrente Provaci, doveva essere un...             0   \n918   io viaggio molto e ho da poco attivato il cont...             0   \n1401  il servizio lascia a desiderare al sud con per...             0   \n1402  gruppo bancario poco propenso a remunerare dep...             0   \n1403  E' bello trovare ancora al giorno d'oggi opera...             0   \n1404  Sono appassionato di conti on-line, ma ho dovu...             0   \n1405  Ho il conto Zerotondo under 26 e mi trovo molt...             0   \n\n      support  local_presence  \n418        80               0  \n419        80               0  \n439        20               0  \n440        60               0  \n441        40               0  \n654       100               0  \n655        20               0  \n656        20               0  \n657        60               0  \n658        80               0  \n659         0               0  \n760       100               0  \n761       100               0  \n762        60               0  \n763         0               0  \n844       100               0  \n845        80               0  \n846        20               0  \n847        40               0  \n848         0               0  \n885        60               0  \n886        40               0  \n917        60               0  \n918        80               0  \n1401       60               0  \n1402       80               0  \n1403      100               0  \n1404        0               0  \n1405        0               0  ",
      "text/html": "<div>\n<style scoped>\n    .dataframe tbody tr th:only-of-type {\n        vertical-align: middle;\n    }\n\n    .dataframe tbody tr th {\n        vertical-align: top;\n    }\n\n    .dataframe thead th {\n        text-align: right;\n    }\n</style>\n<table border=\"1\" class=\"dataframe\">\n  <thead>\n    <tr style=\"text-align: right;\">\n      <th></th>\n      <th>bank</th>\n      <th>user_name</th>\n      <th>title</th>\n      <th>date</th>\n      <th>review</th>\n      <th>home_banking</th>\n      <th>support</th>\n      <th>local_presence</th>\n    </tr>\n  </thead>\n  <tbody>\n    <tr>\n      <th>418</th>\n      <td>bnl</td>\n      <td>Sas_Agne</td>\n      <td>buono</td>\n      <td>2010-11-11</td>\n      <td>Ciao,\\n\\nsono una casalinga e ho il conto corr...</td>\n      <td>0</td>\n      <td>80</td>\n      <td>0</td>\n    </tr>\n    <tr>\n      <th>419</th>\n      <td>bnl</td>\n      <td>Monica</td>\n      <td>Perte Revolution</td>\n      <td>2010-11-11</td>\n      <td>ciao a tutti!\\n\\n\\nho 25 anni e ho attivato il...</td>\n      <td>0</td>\n      <td>80</td>\n      <td>0</td>\n    </tr>\n    <tr>\n      <th>439</th>\n      <td>banca-sella</td>\n      <td>bilbo061075</td>\n      <td>un disastro</td>\n      <td>2012-10-10</td>\n      <td>Purtroppo ho avuto a che fare quasi un anno co...</td>\n      <td>0</td>\n      <td>20</td>\n      <td>0</td>\n    </tr>\n    <tr>\n      <th>440</th>\n      <td>banca-sella</td>\n      <td>Sas_Agne</td>\n      <td>mediocre</td>\n      <td>2010-12-12</td>\n      <td>il conto corrente internet di sella è soddisfa...</td>\n      <td>0</td>\n      <td>60</td>\n      <td>0</td>\n    </tr>\n    <tr>\n      <th>441</th>\n      <td>banca-sella</td>\n      <td>Monica</td>\n      <td>conto corrente online scadente</td>\n      <td>2010-11-11</td>\n      <td>Ho attivato il conto corrente Tuo click perché...</td>\n      <td>0</td>\n      <td>40</td>\n      <td>0</td>\n    </tr>\n    <tr>\n      <th>654</th>\n      <td>ing-direct</td>\n      <td>cesare colaiuta</td>\n      <td>Eccellente</td>\n      <td>2014-03-03</td>\n      <td>L'unica limitazione sonno i preieievi gratuiti...</td>\n      <td>0</td>\n      <td>100</td>\n      <td>0</td>\n    </tr>\n    <tr>\n      <th>655</th>\n      <td>ing-direct</td>\n      <td>Sandro</td>\n      <td>conto corrente ok, mutui meno</td>\n      <td>2014-02-02</td>\n      <td>Il conto consente di tare praticamente tutto o...</td>\n      <td>0</td>\n      <td>20</td>\n      <td>0</td>\n    </tr>\n    <tr>\n      <th>656</th>\n      <td>ing-direct</td>\n      <td>Giuseppe</td>\n      <td>Ing</td>\n      <td>2014-02-02</td>\n      <td>Competenti e cordiali, da tanti anni loro clie...</td>\n      <td>0</td>\n      <td>20</td>\n      <td>0</td>\n    </tr>\n    <tr>\n      <th>657</th>\n      <td>ing-direct</td>\n      <td>LUIGI</td>\n      <td>SERVIZIO CLIENTI CONTO ARANCIO</td>\n      <td>2014-02-02</td>\n      <td>Conto Arancio richiesto direttamente in filial...</td>\n      <td>0</td>\n      <td>60</td>\n      <td>0</td>\n    </tr>\n    <tr>\n      <th>658</th>\n      <td>ing-direct</td>\n      <td>Matteo</td>\n      <td>Perfetto</td>\n      <td>2014-02-02</td>\n      <td>Un conto attivato in maniera abbastanza facile...</td>\n      <td>0</td>\n      <td>80</td>\n      <td>0</td>\n    </tr>\n    <tr>\n      <th>659</th>\n      <td>ing-direct</td>\n      <td>Antonio</td>\n      <td>Conto corrente (super gratuito)</td>\n      <td>2010-10-10</td>\n      <td>Io ho da circa 2 anni il conto corrente con IN...</td>\n      <td>0</td>\n      <td>0</td>\n      <td>0</td>\n    </tr>\n    <tr>\n      <th>760</th>\n      <td>che-banca</td>\n      <td>Monica</td>\n      <td>Esperienza Che Banca|</td>\n      <td>2014-02-02</td>\n      <td>Non hanno molti uffici sul territorio, ma il s...</td>\n      <td>0</td>\n      <td>100</td>\n      <td>0</td>\n    </tr>\n    <tr>\n      <th>761</th>\n      <td>che-banca</td>\n      <td>siarhey</td>\n      <td>Efficienza al ordine del giorno</td>\n      <td>2014-02-02</td>\n      <td>Servizio telefonico ottimo, invio delle carte ...</td>\n      <td>0</td>\n      <td>100</td>\n      <td>0</td>\n    </tr>\n    <tr>\n      <th>762</th>\n      <td>che-banca</td>\n      <td>ruggiero</td>\n      <td>conto tascabile ok</td>\n      <td>2011-07-07</td>\n      <td>conto tascabile fantastico per giovani e per c...</td>\n      <td>0</td>\n      <td>60</td>\n      <td>0</td>\n    </tr>\n    <tr>\n      <th>763</th>\n      <td>che-banca</td>\n      <td>Victor</td>\n      <td>IO SONO SODDISFATTO</td>\n      <td>2010-10-10</td>\n      <td>Sono con che banca da oltre 1 anno e ve la con...</td>\n      <td>0</td>\n      <td>0</td>\n      <td>0</td>\n    </tr>\n    <tr>\n      <th>844</th>\n      <td>unicredit</td>\n      <td>Jacopo</td>\n      <td>Assolutamente soddisfatto</td>\n      <td>2014-03-03</td>\n      <td>Un ottimo servizio clienti, un'area clienti on...</td>\n      <td>0</td>\n      <td>100</td>\n      <td>0</td>\n    </tr>\n    <tr>\n      <th>845</th>\n      <td>unicredit</td>\n      <td>Luigi</td>\n      <td>Opinione</td>\n      <td>2014-02-02</td>\n      <td>Ottima azienda efficiemte comprovata negli ann...</td>\n      <td>0</td>\n      <td>80</td>\n      <td>0</td>\n    </tr>\n    <tr>\n      <th>846</th>\n      <td>unicredit</td>\n      <td>ultraline</td>\n      <td>pessimo istituto bancario</td>\n      <td>2013-10-10</td>\n      <td>purtroppo ho un conto bancario con affidamento...</td>\n      <td>0</td>\n      <td>20</td>\n      <td>0</td>\n    </tr>\n    <tr>\n      <th>847</th>\n      <td>unicredit</td>\n      <td>Wallace</td>\n      <td>Istituto bancario scadente</td>\n      <td>2012-10-10</td>\n      <td>Purtroppo ho avuto un conto unicredit per dive...</td>\n      <td>0</td>\n      <td>40</td>\n      <td>0</td>\n    </tr>\n    <tr>\n      <th>848</th>\n      <td>unicredit</td>\n      <td>Dario</td>\n      <td>Spese Nulle.</td>\n      <td>2010-09-09</td>\n      <td>Ho un conto Genius ed essendo studente è molto...</td>\n      <td>0</td>\n      <td>0</td>\n      <td>0</td>\n    </tr>\n    <tr>\n      <th>885</th>\n      <td>banca-popolare-di-milano</td>\n      <td>Moni_85</td>\n      <td>Mi piace</td>\n      <td>2010-11-11</td>\n      <td>Questa banca mi piace, funziona tutto e non ho...</td>\n      <td>0</td>\n      <td>60</td>\n      <td>0</td>\n    </tr>\n    <tr>\n      <th>886</th>\n      <td>banca-popolare-di-milano</td>\n      <td>Moni_85</td>\n      <td>BPM</td>\n      <td>2010-07-07</td>\n      <td>la Banca popolare di milano è una banca sicura...</td>\n      <td>0</td>\n      <td>40</td>\n      <td>0</td>\n    </tr>\n    <tr>\n      <th>917</th>\n      <td>credit-agricole</td>\n      <td>Annina</td>\n      <td>non provarci!</td>\n      <td>2010-07-07</td>\n      <td>ho il conto corrente Provaci, doveva essere un...</td>\n      <td>0</td>\n      <td>60</td>\n      <td>0</td>\n    </tr>\n    <tr>\n      <th>918</th>\n      <td>credit-agricole</td>\n      <td>Sabrina</td>\n      <td>prelievi gratuiti</td>\n      <td>2010-05-05</td>\n      <td>io viaggio molto e ho da poco attivato il cont...</td>\n      <td>0</td>\n      <td>80</td>\n      <td>0</td>\n    </tr>\n    <tr>\n      <th>1401</th>\n      <td>intesa-sanpaolo</td>\n      <td>giosuè piscopo</td>\n      <td>servizio precario</td>\n      <td>2014-02-02</td>\n      <td>il servizio lascia a desiderare al sud con per...</td>\n      <td>0</td>\n      <td>60</td>\n      <td>0</td>\n    </tr>\n    <tr>\n      <th>1402</th>\n      <td>intesa-sanpaolo</td>\n      <td>giosuè piscopo</td>\n      <td>remunerazione depositi</td>\n      <td>2014-02-02</td>\n      <td>gruppo bancario poco propenso a remunerare dep...</td>\n      <td>0</td>\n      <td>80</td>\n      <td>0</td>\n    </tr>\n    <tr>\n      <th>1403</th>\n      <td>intesa-sanpaolo</td>\n      <td>Salve a tutti...io sono molto soddisfatta del ...</td>\n      <td>GRAZIE!!!</td>\n      <td>2014-02-02</td>\n      <td>E' bello trovare ancora al giorno d'oggi opera...</td>\n      <td>0</td>\n      <td>100</td>\n      <td>0</td>\n    </tr>\n    <tr>\n      <th>1404</th>\n      <td>intesa-sanpaolo</td>\n      <td>Alessandro</td>\n      <td>Una banca umana</td>\n      <td>2010-07-07</td>\n      <td>Sono appassionato di conti on-line, ma ho dovu...</td>\n      <td>0</td>\n      <td>0</td>\n      <td>0</td>\n    </tr>\n    <tr>\n      <th>1405</th>\n      <td>intesa-sanpaolo</td>\n      <td>Niko</td>\n      <td>Conto conveniente e buon servizio online</td>\n      <td>2010-04-04</td>\n      <td>Ho il conto Zerotondo under 26 e mi trovo molt...</td>\n      <td>0</td>\n      <td>0</td>\n      <td>0</td>\n    </tr>\n  </tbody>\n</table>\n</div>"
     },
     "execution_count": 16,
     "metadata": {},
     "output_type": "execute_result"
    }
   ],
   "source": [
    "df.loc[rows_with_no_score]"
   ],
   "metadata": {
    "collapsed": false,
    "ExecuteTime": {
     "end_time": "2023-07-25T15:20:56.874042Z",
     "start_time": "2023-07-25T15:20:56.863224Z"
    }
   }
  },
  {
   "cell_type": "code",
   "execution_count": 17,
   "outputs": [],
   "source": [
    "df.drop(index=df[rows_with_no_score].index, inplace=True)"
   ],
   "metadata": {
    "collapsed": false,
    "ExecuteTime": {
     "end_time": "2023-07-25T15:20:58.868980Z",
     "start_time": "2023-07-25T15:20:58.862547Z"
    }
   }
  },
  {
   "cell_type": "code",
   "execution_count": 18,
   "outputs": [
    {
     "data": {
      "text/plain": "(729, 8)"
     },
     "execution_count": 18,
     "metadata": {},
     "output_type": "execute_result"
    }
   ],
   "source": [
    "df.shape"
   ],
   "metadata": {
    "collapsed": false,
    "ExecuteTime": {
     "end_time": "2023-07-25T15:21:04.078321Z",
     "start_time": "2023-07-25T15:21:04.073306Z"
    }
   }
  },
  {
   "cell_type": "code",
   "execution_count": 19,
   "outputs": [],
   "source": [
    "df['year_review'] = df['date'].apply(lambda x: x.year)"
   ],
   "metadata": {
    "collapsed": false,
    "ExecuteTime": {
     "end_time": "2023-07-25T15:21:19.066494Z",
     "start_time": "2023-07-25T15:21:19.060667Z"
    }
   }
  },
  {
   "cell_type": "code",
   "execution_count": 20,
   "outputs": [
    {
     "data": {
      "text/plain": "bank                      year_review\nbanca-popolare-di-milano  2014           2\n                          2017           2\n                          2018           1\n                          2019           3\n                          2020           2\n                                        ..\nwidiba                    2019           4\n                          2020           3\n                          2021           4\n                          2022           4\n                          2023           3\nName: bank, Length: 81, dtype: int64"
     },
     "execution_count": 20,
     "metadata": {},
     "output_type": "execute_result"
    }
   ],
   "source": [
    "df.groupby(['bank', 'year_review'])['bank'].count()"
   ],
   "metadata": {
    "collapsed": false,
    "ExecuteTime": {
     "end_time": "2023-07-25T15:21:22.683193Z",
     "start_time": "2023-07-25T15:21:22.678642Z"
    }
   }
  }
 ],
 "metadata": {
  "kernelspec": {
   "display_name": "Python 3",
   "language": "python",
   "name": "python3"
  },
  "language_info": {
   "codemirror_mode": {
    "name": "ipython",
    "version": 2
   },
   "file_extension": ".py",
   "mimetype": "text/x-python",
   "name": "python",
   "nbconvert_exporter": "python",
   "pygments_lexer": "ipython2",
   "version": "2.7.6"
  }
 },
 "nbformat": 4,
 "nbformat_minor": 0
}
