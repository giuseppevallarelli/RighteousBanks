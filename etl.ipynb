{
 "cells": [
  {
   "cell_type": "code",
   "execution_count": 1,
   "outputs": [],
   "source": [
    "from datetime import date\n",
    "\n",
    "import matplotlib.pyplot as plt\n",
    "import pandas as pd\n",
    "import seaborn as sns"
   ],
   "metadata": {
    "collapsed": false,
    "ExecuteTime": {
     "end_time": "2023-08-05T14:28:16.532323Z",
     "start_time": "2023-08-05T14:28:16.451532Z"
    }
   }
  },
  {
   "cell_type": "code",
   "execution_count": 2,
   "outputs": [],
   "source": [
    "df = pd.read_csv('data/reviews.csv')"
   ],
   "metadata": {
    "collapsed": false,
    "ExecuteTime": {
     "end_time": "2023-08-05T14:28:16.608335Z",
     "start_time": "2023-08-05T14:28:16.455012Z"
    }
   }
  },
  {
   "cell_type": "code",
   "execution_count": 3,
   "outputs": [
    {
     "data": {
      "text/plain": "(1406, 11)"
     },
     "execution_count": 3,
     "metadata": {},
     "output_type": "execute_result"
    }
   ],
   "source": [
    "df.shape"
   ],
   "metadata": {
    "collapsed": false,
    "ExecuteTime": {
     "end_time": "2023-08-05T14:28:16.608544Z",
     "start_time": "2023-08-05T14:28:16.468768Z"
    }
   }
  },
  {
   "cell_type": "code",
   "execution_count": 4,
   "outputs": [],
   "source": [
    "df = df.drop_duplicates()"
   ],
   "metadata": {
    "collapsed": false,
    "ExecuteTime": {
     "end_time": "2023-08-05T14:28:16.610859Z",
     "start_time": "2023-08-05T14:28:16.471842Z"
    }
   }
  },
  {
   "cell_type": "code",
   "execution_count": 5,
   "outputs": [
    {
     "data": {
      "text/plain": "(1399, 11)"
     },
     "execution_count": 5,
     "metadata": {},
     "output_type": "execute_result"
    }
   ],
   "source": [
    "df.shape"
   ],
   "metadata": {
    "collapsed": false,
    "ExecuteTime": {
     "end_time": "2023-08-05T14:28:16.613127Z",
     "start_time": "2023-08-05T14:28:16.478350Z"
    }
   }
  },
  {
   "cell_type": "code",
   "execution_count": 6,
   "outputs": [
    {
     "data": {
      "text/plain": "               bank       user_name  \\\n0             qonto         Alessio   \n1    trade-republic          Fulvio   \n2         santander           Mauro   \n3         santander  Laritza Iznaga   \n4            tinaba         Giacomo   \n5            tinaba   Mauro Sartore   \n6            tinaba            Luca   \n7  american-express         Daniele   \n8          illimity          Andrea   \n9          illimity         Alberto   \n\n                                           title               date  \\\n0                      Qonto per la mia attività     21 Giugno 2023   \n1                  Conto deposito trade republic     21 Giugno 2023   \n2                                  Finanziamento      21 Marzo 2023   \n3                                         Deluso  24 Settembre 2022   \n4                      Conto deposito con Tinaba     21 Giugno 2023   \n5                                   precisazione   18 Febbraio 2022   \n6  Il conto e la carta che cercavo. Eccezionale!   23 Dicembre 2021   \n7                            La uso tutti i mesi   01 Dicembre 2019   \n8                                       Traverso    04 Gennaio 2020   \n9                           C/c facile da aprire   25 Novembre 2019   \n\n                                              review  home_banking  security  \\\n0  Da libero professionista, Qonto è stata una pi...           100        80   \n1  Ho iniziato ad utilizzare Trade Republic per p...            80       100   \n2  Buonasera\\nHo chiesto un finanziamento di 2500...            40        20   \n3  Buongiorno come prima esperienza con la Banca ...            20        20   \n4  Investire nel conto deposito di Tinaba è stata...           100        80   \n5  Solo per specificare che contrariamente a quan...           100       100   \n6  Ho aperto Tinaba da qualche mese e penso che a...           100       100   \n7  Molto facile da usare con app che ti indica i ...           100       100   \n8  Assolutamente non ci siamo, iniziate le pratic...            20        20   \n9  Conto corrente online facile da utilizzare ed ...           100       100   \n\n   support  promotions  services  local_presence  \n0       80         100       100              60  \n1       80          80        80             100  \n2       20          20        20              20  \n3       20          20        20              20  \n4       80         100        80              60  \n5      100         100       100             100  \n6      100          80        80              20  \n7      100         100        60              40  \n8       20          20        20              20  \n9       80         100       100              60  ",
      "text/html": "<div>\n<style scoped>\n    .dataframe tbody tr th:only-of-type {\n        vertical-align: middle;\n    }\n\n    .dataframe tbody tr th {\n        vertical-align: top;\n    }\n\n    .dataframe thead th {\n        text-align: right;\n    }\n</style>\n<table border=\"1\" class=\"dataframe\">\n  <thead>\n    <tr style=\"text-align: right;\">\n      <th></th>\n      <th>bank</th>\n      <th>user_name</th>\n      <th>title</th>\n      <th>date</th>\n      <th>review</th>\n      <th>home_banking</th>\n      <th>security</th>\n      <th>support</th>\n      <th>promotions</th>\n      <th>services</th>\n      <th>local_presence</th>\n    </tr>\n  </thead>\n  <tbody>\n    <tr>\n      <th>0</th>\n      <td>qonto</td>\n      <td>Alessio</td>\n      <td>Qonto per la mia attività</td>\n      <td>21 Giugno 2023</td>\n      <td>Da libero professionista, Qonto è stata una pi...</td>\n      <td>100</td>\n      <td>80</td>\n      <td>80</td>\n      <td>100</td>\n      <td>100</td>\n      <td>60</td>\n    </tr>\n    <tr>\n      <th>1</th>\n      <td>trade-republic</td>\n      <td>Fulvio</td>\n      <td>Conto deposito trade republic</td>\n      <td>21 Giugno 2023</td>\n      <td>Ho iniziato ad utilizzare Trade Republic per p...</td>\n      <td>80</td>\n      <td>100</td>\n      <td>80</td>\n      <td>80</td>\n      <td>80</td>\n      <td>100</td>\n    </tr>\n    <tr>\n      <th>2</th>\n      <td>santander</td>\n      <td>Mauro</td>\n      <td>Finanziamento</td>\n      <td>21 Marzo 2023</td>\n      <td>Buonasera\\nHo chiesto un finanziamento di 2500...</td>\n      <td>40</td>\n      <td>20</td>\n      <td>20</td>\n      <td>20</td>\n      <td>20</td>\n      <td>20</td>\n    </tr>\n    <tr>\n      <th>3</th>\n      <td>santander</td>\n      <td>Laritza Iznaga</td>\n      <td>Deluso</td>\n      <td>24 Settembre 2022</td>\n      <td>Buongiorno come prima esperienza con la Banca ...</td>\n      <td>20</td>\n      <td>20</td>\n      <td>20</td>\n      <td>20</td>\n      <td>20</td>\n      <td>20</td>\n    </tr>\n    <tr>\n      <th>4</th>\n      <td>tinaba</td>\n      <td>Giacomo</td>\n      <td>Conto deposito con Tinaba</td>\n      <td>21 Giugno 2023</td>\n      <td>Investire nel conto deposito di Tinaba è stata...</td>\n      <td>100</td>\n      <td>80</td>\n      <td>80</td>\n      <td>100</td>\n      <td>80</td>\n      <td>60</td>\n    </tr>\n    <tr>\n      <th>5</th>\n      <td>tinaba</td>\n      <td>Mauro Sartore</td>\n      <td>precisazione</td>\n      <td>18 Febbraio 2022</td>\n      <td>Solo per specificare che contrariamente a quan...</td>\n      <td>100</td>\n      <td>100</td>\n      <td>100</td>\n      <td>100</td>\n      <td>100</td>\n      <td>100</td>\n    </tr>\n    <tr>\n      <th>6</th>\n      <td>tinaba</td>\n      <td>Luca</td>\n      <td>Il conto e la carta che cercavo. Eccezionale!</td>\n      <td>23 Dicembre 2021</td>\n      <td>Ho aperto Tinaba da qualche mese e penso che a...</td>\n      <td>100</td>\n      <td>100</td>\n      <td>100</td>\n      <td>80</td>\n      <td>80</td>\n      <td>20</td>\n    </tr>\n    <tr>\n      <th>7</th>\n      <td>american-express</td>\n      <td>Daniele</td>\n      <td>La uso tutti i mesi</td>\n      <td>01 Dicembre 2019</td>\n      <td>Molto facile da usare con app che ti indica i ...</td>\n      <td>100</td>\n      <td>100</td>\n      <td>100</td>\n      <td>100</td>\n      <td>60</td>\n      <td>40</td>\n    </tr>\n    <tr>\n      <th>8</th>\n      <td>illimity</td>\n      <td>Andrea</td>\n      <td>Traverso</td>\n      <td>04 Gennaio 2020</td>\n      <td>Assolutamente non ci siamo, iniziate le pratic...</td>\n      <td>20</td>\n      <td>20</td>\n      <td>20</td>\n      <td>20</td>\n      <td>20</td>\n      <td>20</td>\n    </tr>\n    <tr>\n      <th>9</th>\n      <td>illimity</td>\n      <td>Alberto</td>\n      <td>C/c facile da aprire</td>\n      <td>25 Novembre 2019</td>\n      <td>Conto corrente online facile da utilizzare ed ...</td>\n      <td>100</td>\n      <td>100</td>\n      <td>80</td>\n      <td>100</td>\n      <td>100</td>\n      <td>60</td>\n    </tr>\n  </tbody>\n</table>\n</div>"
     },
     "execution_count": 6,
     "metadata": {},
     "output_type": "execute_result"
    }
   ],
   "source": [
    "df.head(10)"
   ],
   "metadata": {
    "collapsed": false,
    "ExecuteTime": {
     "end_time": "2023-08-05T14:28:16.644706Z",
     "start_time": "2023-08-05T14:28:16.481286Z"
    }
   }
  },
  {
   "cell_type": "markdown",
   "source": [
    "In terms of scores we consider only the following: `home_banking`, `support` and `local_presence`"
   ],
   "metadata": {
    "collapsed": false
   }
  },
  {
   "cell_type": "code",
   "execution_count": 7,
   "outputs": [],
   "source": [
    "df = df[['bank', 'user_name', 'title', 'date', 'review', 'home_banking', 'support', 'local_presence']]"
   ],
   "metadata": {
    "collapsed": false,
    "ExecuteTime": {
     "end_time": "2023-08-05T14:28:16.644855Z",
     "start_time": "2023-08-05T14:28:16.488880Z"
    }
   }
  },
  {
   "cell_type": "code",
   "execution_count": 8,
   "outputs": [],
   "source": [
    "def convert_date_str(date_str):\n",
    "    it_month_number_map = {\n",
    "        'gennaio': '01', 'febbraio': '02', 'marzo': '03', 'aprile': '04',\n",
    "        'maggio': '05', 'giugno': '06', 'luglio': '07', 'agosto': '08',\n",
    "        'settembre': '09', 'ottobre': '10', 'novembre': '11', 'dicembre': '12'\n",
    "    }\n",
    "    day, month_italian, year = date_str.split(' ')\n",
    "    month = it_month_number_map[month_italian.lower()]\n",
    "    return date(int(year), int(month), int(month))"
   ],
   "metadata": {
    "collapsed": false,
    "ExecuteTime": {
     "end_time": "2023-08-05T14:28:16.644885Z",
     "start_time": "2023-08-05T14:28:16.491302Z"
    }
   }
  },
  {
   "cell_type": "code",
   "execution_count": 9,
   "outputs": [],
   "source": [
    "df['date'] = df['date'].apply(convert_date_str)"
   ],
   "metadata": {
    "collapsed": false,
    "ExecuteTime": {
     "end_time": "2023-08-05T14:28:16.679099Z",
     "start_time": "2023-08-05T14:28:16.496254Z"
    }
   }
  },
  {
   "cell_type": "code",
   "execution_count": 10,
   "outputs": [
    {
     "data": {
      "text/plain": "             bank       user_name                          title        date  \\\n0           qonto         Alessio      Qonto per la mia attività  2023-06-06   \n1  trade-republic          Fulvio  Conto deposito trade republic  2023-06-06   \n2       santander           Mauro                  Finanziamento  2023-03-03   \n3       santander  Laritza Iznaga                         Deluso  2022-09-09   \n4          tinaba         Giacomo      Conto deposito con Tinaba  2023-06-06   \n\n                                              review  home_banking  support  \\\n0  Da libero professionista, Qonto è stata una pi...           100       80   \n1  Ho iniziato ad utilizzare Trade Republic per p...            80       80   \n2  Buonasera\\nHo chiesto un finanziamento di 2500...            40       20   \n3  Buongiorno come prima esperienza con la Banca ...            20       20   \n4  Investire nel conto deposito di Tinaba è stata...           100       80   \n\n   local_presence  \n0              60  \n1             100  \n2              20  \n3              20  \n4              60  ",
      "text/html": "<div>\n<style scoped>\n    .dataframe tbody tr th:only-of-type {\n        vertical-align: middle;\n    }\n\n    .dataframe tbody tr th {\n        vertical-align: top;\n    }\n\n    .dataframe thead th {\n        text-align: right;\n    }\n</style>\n<table border=\"1\" class=\"dataframe\">\n  <thead>\n    <tr style=\"text-align: right;\">\n      <th></th>\n      <th>bank</th>\n      <th>user_name</th>\n      <th>title</th>\n      <th>date</th>\n      <th>review</th>\n      <th>home_banking</th>\n      <th>support</th>\n      <th>local_presence</th>\n    </tr>\n  </thead>\n  <tbody>\n    <tr>\n      <th>0</th>\n      <td>qonto</td>\n      <td>Alessio</td>\n      <td>Qonto per la mia attività</td>\n      <td>2023-06-06</td>\n      <td>Da libero professionista, Qonto è stata una pi...</td>\n      <td>100</td>\n      <td>80</td>\n      <td>60</td>\n    </tr>\n    <tr>\n      <th>1</th>\n      <td>trade-republic</td>\n      <td>Fulvio</td>\n      <td>Conto deposito trade republic</td>\n      <td>2023-06-06</td>\n      <td>Ho iniziato ad utilizzare Trade Republic per p...</td>\n      <td>80</td>\n      <td>80</td>\n      <td>100</td>\n    </tr>\n    <tr>\n      <th>2</th>\n      <td>santander</td>\n      <td>Mauro</td>\n      <td>Finanziamento</td>\n      <td>2023-03-03</td>\n      <td>Buonasera\\nHo chiesto un finanziamento di 2500...</td>\n      <td>40</td>\n      <td>20</td>\n      <td>20</td>\n    </tr>\n    <tr>\n      <th>3</th>\n      <td>santander</td>\n      <td>Laritza Iznaga</td>\n      <td>Deluso</td>\n      <td>2022-09-09</td>\n      <td>Buongiorno come prima esperienza con la Banca ...</td>\n      <td>20</td>\n      <td>20</td>\n      <td>20</td>\n    </tr>\n    <tr>\n      <th>4</th>\n      <td>tinaba</td>\n      <td>Giacomo</td>\n      <td>Conto deposito con Tinaba</td>\n      <td>2023-06-06</td>\n      <td>Investire nel conto deposito di Tinaba è stata...</td>\n      <td>100</td>\n      <td>80</td>\n      <td>60</td>\n    </tr>\n  </tbody>\n</table>\n</div>"
     },
     "execution_count": 10,
     "metadata": {},
     "output_type": "execute_result"
    }
   ],
   "source": [
    "df.head()"
   ],
   "metadata": {
    "collapsed": false,
    "ExecuteTime": {
     "end_time": "2023-08-05T14:28:16.679386Z",
     "start_time": "2023-08-05T14:28:16.498755Z"
    }
   }
  },
  {
   "cell_type": "markdown",
   "source": [
    "Cariparma has been acquired by Crédit Agricole, we rename matching rows in the dataset"
   ],
   "metadata": {
    "collapsed": false
   }
  },
  {
   "cell_type": "code",
   "execution_count": 11,
   "outputs": [],
   "source": [
    "cariparma_filter = df['bank'] == 'cariparma'"
   ],
   "metadata": {
    "collapsed": false,
    "ExecuteTime": {
     "end_time": "2023-08-05T14:28:16.686208Z",
     "start_time": "2023-08-05T14:28:16.501495Z"
    }
   }
  },
  {
   "cell_type": "code",
   "execution_count": 12,
   "outputs": [],
   "source": [
    "df.loc[cariparma_filter, 'bank'] = 'credit-agricole'"
   ],
   "metadata": {
    "collapsed": false,
    "ExecuteTime": {
     "end_time": "2023-08-05T14:28:16.686327Z",
     "start_time": "2023-08-05T14:28:16.503273Z"
    }
   }
  },
  {
   "cell_type": "markdown",
   "source": [
    "We will consider only selected banks"
   ],
   "metadata": {
    "collapsed": false
   }
  },
  {
   "cell_type": "code",
   "execution_count": 13,
   "outputs": [],
   "source": [
    "selected_banks = ['widiba', 'monte-dei-paschi-di-siena', 'banca-popolare-di-milano', 'bnl', 'che-banca', 'ing-direct', 'intesa-sanpaolo', 'unicredit', 'banca-sella', 'credit-agricole']"
   ],
   "metadata": {
    "collapsed": false,
    "ExecuteTime": {
     "end_time": "2023-08-05T14:28:16.723030Z",
     "start_time": "2023-08-05T14:28:16.507244Z"
    }
   }
  },
  {
   "cell_type": "code",
   "execution_count": 14,
   "outputs": [],
   "source": [
    "df = df.loc[df['bank'].isin(selected_banks)]"
   ],
   "metadata": {
    "collapsed": false,
    "ExecuteTime": {
     "end_time": "2023-08-05T14:28:16.723196Z",
     "start_time": "2023-08-05T14:28:16.511850Z"
    }
   }
  },
  {
   "cell_type": "markdown",
   "source": [
    "We drop rows which don't have score for columns of interest"
   ],
   "metadata": {
    "collapsed": false
   }
  },
  {
   "cell_type": "code",
   "execution_count": 15,
   "outputs": [],
   "source": [
    "rows_with_no_score = (df['home_banking'] == 0) | (df['support'] == 0) | (df['local_presence'] == 0)"
   ],
   "metadata": {
    "collapsed": false,
    "ExecuteTime": {
     "end_time": "2023-08-05T14:28:16.723242Z",
     "start_time": "2023-08-05T14:28:16.513107Z"
    }
   }
  },
  {
   "cell_type": "code",
   "execution_count": 16,
   "outputs": [
    {
     "data": {
      "text/plain": "                          bank  \\\n418                        bnl   \n419                        bnl   \n439                banca-sella   \n440                banca-sella   \n441                banca-sella   \n654                 ing-direct   \n655                 ing-direct   \n656                 ing-direct   \n657                 ing-direct   \n658                 ing-direct   \n659                 ing-direct   \n760                  che-banca   \n761                  che-banca   \n762                  che-banca   \n763                  che-banca   \n844                  unicredit   \n845                  unicredit   \n846                  unicredit   \n847                  unicredit   \n848                  unicredit   \n885   banca-popolare-di-milano   \n886   banca-popolare-di-milano   \n917            credit-agricole   \n918            credit-agricole   \n1401           intesa-sanpaolo   \n1402           intesa-sanpaolo   \n1403           intesa-sanpaolo   \n1404           intesa-sanpaolo   \n1405           intesa-sanpaolo   \n\n                                              user_name  \\\n418                                            Sas_Agne   \n419                                              Monica   \n439                                         bilbo061075   \n440                                            Sas_Agne   \n441                                              Monica   \n654                                     cesare colaiuta   \n655                                              Sandro   \n656                                            Giuseppe   \n657                                               LUIGI   \n658                                              Matteo   \n659                                             Antonio   \n760                                              Monica   \n761                                             siarhey   \n762                                            ruggiero   \n763                                              Victor   \n844                                              Jacopo   \n845                                               Luigi   \n846                                           ultraline   \n847                                             Wallace   \n848                                               Dario   \n885                                             Moni_85   \n886                                             Moni_85   \n917                                              Annina   \n918                                             Sabrina   \n1401                                     giosuè piscopo   \n1402                                     giosuè piscopo   \n1403  Salve a tutti...io sono molto soddisfatta del ...   \n1404                                         Alessandro   \n1405                                               Niko   \n\n                                         title        date  \\\n418                                      buono  2010-11-11   \n419                           Perte Revolution  2010-11-11   \n439                                un disastro  2012-10-10   \n440                                   mediocre  2010-12-12   \n441             conto corrente online scadente  2010-11-11   \n654                                 Eccellente  2014-03-03   \n655              conto corrente ok, mutui meno  2014-02-02   \n656                                        Ing  2014-02-02   \n657             SERVIZIO CLIENTI CONTO ARANCIO  2014-02-02   \n658                                   Perfetto  2014-02-02   \n659            Conto corrente (super gratuito)  2010-10-10   \n760                      Esperienza Che Banca|  2014-02-02   \n761            Efficienza al ordine del giorno  2014-02-02   \n762                         conto tascabile ok  2011-07-07   \n763                        IO SONO SODDISFATTO  2010-10-10   \n844                  Assolutamente soddisfatto  2014-03-03   \n845                                   Opinione  2014-02-02   \n846                  pessimo istituto bancario  2013-10-10   \n847                 Istituto bancario scadente  2012-10-10   \n848                               Spese Nulle.  2010-09-09   \n885                                   Mi piace  2010-11-11   \n886                                        BPM  2010-07-07   \n917                              non provarci!  2010-07-07   \n918                          prelievi gratuiti  2010-05-05   \n1401                         servizio precario  2014-02-02   \n1402                    remunerazione depositi  2014-02-02   \n1403                                 GRAZIE!!!  2014-02-02   \n1404                           Una banca umana  2010-07-07   \n1405  Conto conveniente e buon servizio online  2010-04-04   \n\n                                                 review  home_banking  \\\n418   Ciao,\\n\\nsono una casalinga e ho il conto corr...             0   \n419   ciao a tutti!\\n\\n\\nho 25 anni e ho attivato il...             0   \n439   Purtroppo ho avuto a che fare quasi un anno co...             0   \n440   il conto corrente internet di sella è soddisfa...             0   \n441   Ho attivato il conto corrente Tuo click perché...             0   \n654   L'unica limitazione sonno i preieievi gratuiti...             0   \n655   Il conto consente di tare praticamente tutto o...             0   \n656   Competenti e cordiali, da tanti anni loro clie...             0   \n657   Conto Arancio richiesto direttamente in filial...             0   \n658   Un conto attivato in maniera abbastanza facile...             0   \n659   Io ho da circa 2 anni il conto corrente con IN...             0   \n760   Non hanno molti uffici sul territorio, ma il s...             0   \n761   Servizio telefonico ottimo, invio delle carte ...             0   \n762   conto tascabile fantastico per giovani e per c...             0   \n763   Sono con che banca da oltre 1 anno e ve la con...             0   \n844   Un ottimo servizio clienti, un'area clienti on...             0   \n845   Ottima azienda efficiemte comprovata negli ann...             0   \n846   purtroppo ho un conto bancario con affidamento...             0   \n847   Purtroppo ho avuto un conto unicredit per dive...             0   \n848   Ho un conto Genius ed essendo studente è molto...             0   \n885   Questa banca mi piace, funziona tutto e non ho...             0   \n886   la Banca popolare di milano è una banca sicura...             0   \n917   ho il conto corrente Provaci, doveva essere un...             0   \n918   io viaggio molto e ho da poco attivato il cont...             0   \n1401  il servizio lascia a desiderare al sud con per...             0   \n1402  gruppo bancario poco propenso a remunerare dep...             0   \n1403  E' bello trovare ancora al giorno d'oggi opera...             0   \n1404  Sono appassionato di conti on-line, ma ho dovu...             0   \n1405  Ho il conto Zerotondo under 26 e mi trovo molt...             0   \n\n      support  local_presence  \n418        80               0  \n419        80               0  \n439        20               0  \n440        60               0  \n441        40               0  \n654       100               0  \n655        20               0  \n656        20               0  \n657        60               0  \n658        80               0  \n659         0               0  \n760       100               0  \n761       100               0  \n762        60               0  \n763         0               0  \n844       100               0  \n845        80               0  \n846        20               0  \n847        40               0  \n848         0               0  \n885        60               0  \n886        40               0  \n917        60               0  \n918        80               0  \n1401       60               0  \n1402       80               0  \n1403      100               0  \n1404        0               0  \n1405        0               0  ",
      "text/html": "<div>\n<style scoped>\n    .dataframe tbody tr th:only-of-type {\n        vertical-align: middle;\n    }\n\n    .dataframe tbody tr th {\n        vertical-align: top;\n    }\n\n    .dataframe thead th {\n        text-align: right;\n    }\n</style>\n<table border=\"1\" class=\"dataframe\">\n  <thead>\n    <tr style=\"text-align: right;\">\n      <th></th>\n      <th>bank</th>\n      <th>user_name</th>\n      <th>title</th>\n      <th>date</th>\n      <th>review</th>\n      <th>home_banking</th>\n      <th>support</th>\n      <th>local_presence</th>\n    </tr>\n  </thead>\n  <tbody>\n    <tr>\n      <th>418</th>\n      <td>bnl</td>\n      <td>Sas_Agne</td>\n      <td>buono</td>\n      <td>2010-11-11</td>\n      <td>Ciao,\\n\\nsono una casalinga e ho il conto corr...</td>\n      <td>0</td>\n      <td>80</td>\n      <td>0</td>\n    </tr>\n    <tr>\n      <th>419</th>\n      <td>bnl</td>\n      <td>Monica</td>\n      <td>Perte Revolution</td>\n      <td>2010-11-11</td>\n      <td>ciao a tutti!\\n\\n\\nho 25 anni e ho attivato il...</td>\n      <td>0</td>\n      <td>80</td>\n      <td>0</td>\n    </tr>\n    <tr>\n      <th>439</th>\n      <td>banca-sella</td>\n      <td>bilbo061075</td>\n      <td>un disastro</td>\n      <td>2012-10-10</td>\n      <td>Purtroppo ho avuto a che fare quasi un anno co...</td>\n      <td>0</td>\n      <td>20</td>\n      <td>0</td>\n    </tr>\n    <tr>\n      <th>440</th>\n      <td>banca-sella</td>\n      <td>Sas_Agne</td>\n      <td>mediocre</td>\n      <td>2010-12-12</td>\n      <td>il conto corrente internet di sella è soddisfa...</td>\n      <td>0</td>\n      <td>60</td>\n      <td>0</td>\n    </tr>\n    <tr>\n      <th>441</th>\n      <td>banca-sella</td>\n      <td>Monica</td>\n      <td>conto corrente online scadente</td>\n      <td>2010-11-11</td>\n      <td>Ho attivato il conto corrente Tuo click perché...</td>\n      <td>0</td>\n      <td>40</td>\n      <td>0</td>\n    </tr>\n    <tr>\n      <th>654</th>\n      <td>ing-direct</td>\n      <td>cesare colaiuta</td>\n      <td>Eccellente</td>\n      <td>2014-03-03</td>\n      <td>L'unica limitazione sonno i preieievi gratuiti...</td>\n      <td>0</td>\n      <td>100</td>\n      <td>0</td>\n    </tr>\n    <tr>\n      <th>655</th>\n      <td>ing-direct</td>\n      <td>Sandro</td>\n      <td>conto corrente ok, mutui meno</td>\n      <td>2014-02-02</td>\n      <td>Il conto consente di tare praticamente tutto o...</td>\n      <td>0</td>\n      <td>20</td>\n      <td>0</td>\n    </tr>\n    <tr>\n      <th>656</th>\n      <td>ing-direct</td>\n      <td>Giuseppe</td>\n      <td>Ing</td>\n      <td>2014-02-02</td>\n      <td>Competenti e cordiali, da tanti anni loro clie...</td>\n      <td>0</td>\n      <td>20</td>\n      <td>0</td>\n    </tr>\n    <tr>\n      <th>657</th>\n      <td>ing-direct</td>\n      <td>LUIGI</td>\n      <td>SERVIZIO CLIENTI CONTO ARANCIO</td>\n      <td>2014-02-02</td>\n      <td>Conto Arancio richiesto direttamente in filial...</td>\n      <td>0</td>\n      <td>60</td>\n      <td>0</td>\n    </tr>\n    <tr>\n      <th>658</th>\n      <td>ing-direct</td>\n      <td>Matteo</td>\n      <td>Perfetto</td>\n      <td>2014-02-02</td>\n      <td>Un conto attivato in maniera abbastanza facile...</td>\n      <td>0</td>\n      <td>80</td>\n      <td>0</td>\n    </tr>\n    <tr>\n      <th>659</th>\n      <td>ing-direct</td>\n      <td>Antonio</td>\n      <td>Conto corrente (super gratuito)</td>\n      <td>2010-10-10</td>\n      <td>Io ho da circa 2 anni il conto corrente con IN...</td>\n      <td>0</td>\n      <td>0</td>\n      <td>0</td>\n    </tr>\n    <tr>\n      <th>760</th>\n      <td>che-banca</td>\n      <td>Monica</td>\n      <td>Esperienza Che Banca|</td>\n      <td>2014-02-02</td>\n      <td>Non hanno molti uffici sul territorio, ma il s...</td>\n      <td>0</td>\n      <td>100</td>\n      <td>0</td>\n    </tr>\n    <tr>\n      <th>761</th>\n      <td>che-banca</td>\n      <td>siarhey</td>\n      <td>Efficienza al ordine del giorno</td>\n      <td>2014-02-02</td>\n      <td>Servizio telefonico ottimo, invio delle carte ...</td>\n      <td>0</td>\n      <td>100</td>\n      <td>0</td>\n    </tr>\n    <tr>\n      <th>762</th>\n      <td>che-banca</td>\n      <td>ruggiero</td>\n      <td>conto tascabile ok</td>\n      <td>2011-07-07</td>\n      <td>conto tascabile fantastico per giovani e per c...</td>\n      <td>0</td>\n      <td>60</td>\n      <td>0</td>\n    </tr>\n    <tr>\n      <th>763</th>\n      <td>che-banca</td>\n      <td>Victor</td>\n      <td>IO SONO SODDISFATTO</td>\n      <td>2010-10-10</td>\n      <td>Sono con che banca da oltre 1 anno e ve la con...</td>\n      <td>0</td>\n      <td>0</td>\n      <td>0</td>\n    </tr>\n    <tr>\n      <th>844</th>\n      <td>unicredit</td>\n      <td>Jacopo</td>\n      <td>Assolutamente soddisfatto</td>\n      <td>2014-03-03</td>\n      <td>Un ottimo servizio clienti, un'area clienti on...</td>\n      <td>0</td>\n      <td>100</td>\n      <td>0</td>\n    </tr>\n    <tr>\n      <th>845</th>\n      <td>unicredit</td>\n      <td>Luigi</td>\n      <td>Opinione</td>\n      <td>2014-02-02</td>\n      <td>Ottima azienda efficiemte comprovata negli ann...</td>\n      <td>0</td>\n      <td>80</td>\n      <td>0</td>\n    </tr>\n    <tr>\n      <th>846</th>\n      <td>unicredit</td>\n      <td>ultraline</td>\n      <td>pessimo istituto bancario</td>\n      <td>2013-10-10</td>\n      <td>purtroppo ho un conto bancario con affidamento...</td>\n      <td>0</td>\n      <td>20</td>\n      <td>0</td>\n    </tr>\n    <tr>\n      <th>847</th>\n      <td>unicredit</td>\n      <td>Wallace</td>\n      <td>Istituto bancario scadente</td>\n      <td>2012-10-10</td>\n      <td>Purtroppo ho avuto un conto unicredit per dive...</td>\n      <td>0</td>\n      <td>40</td>\n      <td>0</td>\n    </tr>\n    <tr>\n      <th>848</th>\n      <td>unicredit</td>\n      <td>Dario</td>\n      <td>Spese Nulle.</td>\n      <td>2010-09-09</td>\n      <td>Ho un conto Genius ed essendo studente è molto...</td>\n      <td>0</td>\n      <td>0</td>\n      <td>0</td>\n    </tr>\n    <tr>\n      <th>885</th>\n      <td>banca-popolare-di-milano</td>\n      <td>Moni_85</td>\n      <td>Mi piace</td>\n      <td>2010-11-11</td>\n      <td>Questa banca mi piace, funziona tutto e non ho...</td>\n      <td>0</td>\n      <td>60</td>\n      <td>0</td>\n    </tr>\n    <tr>\n      <th>886</th>\n      <td>banca-popolare-di-milano</td>\n      <td>Moni_85</td>\n      <td>BPM</td>\n      <td>2010-07-07</td>\n      <td>la Banca popolare di milano è una banca sicura...</td>\n      <td>0</td>\n      <td>40</td>\n      <td>0</td>\n    </tr>\n    <tr>\n      <th>917</th>\n      <td>credit-agricole</td>\n      <td>Annina</td>\n      <td>non provarci!</td>\n      <td>2010-07-07</td>\n      <td>ho il conto corrente Provaci, doveva essere un...</td>\n      <td>0</td>\n      <td>60</td>\n      <td>0</td>\n    </tr>\n    <tr>\n      <th>918</th>\n      <td>credit-agricole</td>\n      <td>Sabrina</td>\n      <td>prelievi gratuiti</td>\n      <td>2010-05-05</td>\n      <td>io viaggio molto e ho da poco attivato il cont...</td>\n      <td>0</td>\n      <td>80</td>\n      <td>0</td>\n    </tr>\n    <tr>\n      <th>1401</th>\n      <td>intesa-sanpaolo</td>\n      <td>giosuè piscopo</td>\n      <td>servizio precario</td>\n      <td>2014-02-02</td>\n      <td>il servizio lascia a desiderare al sud con per...</td>\n      <td>0</td>\n      <td>60</td>\n      <td>0</td>\n    </tr>\n    <tr>\n      <th>1402</th>\n      <td>intesa-sanpaolo</td>\n      <td>giosuè piscopo</td>\n      <td>remunerazione depositi</td>\n      <td>2014-02-02</td>\n      <td>gruppo bancario poco propenso a remunerare dep...</td>\n      <td>0</td>\n      <td>80</td>\n      <td>0</td>\n    </tr>\n    <tr>\n      <th>1403</th>\n      <td>intesa-sanpaolo</td>\n      <td>Salve a tutti...io sono molto soddisfatta del ...</td>\n      <td>GRAZIE!!!</td>\n      <td>2014-02-02</td>\n      <td>E' bello trovare ancora al giorno d'oggi opera...</td>\n      <td>0</td>\n      <td>100</td>\n      <td>0</td>\n    </tr>\n    <tr>\n      <th>1404</th>\n      <td>intesa-sanpaolo</td>\n      <td>Alessandro</td>\n      <td>Una banca umana</td>\n      <td>2010-07-07</td>\n      <td>Sono appassionato di conti on-line, ma ho dovu...</td>\n      <td>0</td>\n      <td>0</td>\n      <td>0</td>\n    </tr>\n    <tr>\n      <th>1405</th>\n      <td>intesa-sanpaolo</td>\n      <td>Niko</td>\n      <td>Conto conveniente e buon servizio online</td>\n      <td>2010-04-04</td>\n      <td>Ho il conto Zerotondo under 26 e mi trovo molt...</td>\n      <td>0</td>\n      <td>0</td>\n      <td>0</td>\n    </tr>\n  </tbody>\n</table>\n</div>"
     },
     "execution_count": 16,
     "metadata": {},
     "output_type": "execute_result"
    }
   ],
   "source": [
    "df.loc[rows_with_no_score]"
   ],
   "metadata": {
    "collapsed": false,
    "ExecuteTime": {
     "end_time": "2023-08-05T14:28:16.723344Z",
     "start_time": "2023-08-05T14:28:16.518153Z"
    }
   }
  },
  {
   "cell_type": "code",
   "execution_count": 17,
   "outputs": [],
   "source": [
    "df.drop(index=df[rows_with_no_score].index, inplace=True)"
   ],
   "metadata": {
    "collapsed": false,
    "ExecuteTime": {
     "end_time": "2023-08-05T14:28:16.723378Z",
     "start_time": "2023-08-05T14:28:16.520587Z"
    }
   }
  },
  {
   "cell_type": "code",
   "execution_count": 18,
   "outputs": [
    {
     "data": {
      "text/plain": "(729, 8)"
     },
     "execution_count": 18,
     "metadata": {},
     "output_type": "execute_result"
    }
   ],
   "source": [
    "df.shape"
   ],
   "metadata": {
    "collapsed": false,
    "ExecuteTime": {
     "end_time": "2023-08-05T14:28:16.723778Z",
     "start_time": "2023-08-05T14:28:16.523786Z"
    }
   }
  },
  {
   "cell_type": "code",
   "execution_count": 19,
   "outputs": [],
   "source": [
    "df['year_review'] = df['date'].apply(lambda x: x.year)"
   ],
   "metadata": {
    "collapsed": false,
    "ExecuteTime": {
     "end_time": "2023-08-05T14:28:16.723810Z",
     "start_time": "2023-08-05T14:28:16.526427Z"
    }
   }
  },
  {
   "cell_type": "code",
   "execution_count": 20,
   "outputs": [
    {
     "data": {
      "text/plain": "bank                      year_review\nbanca-popolare-di-milano  2014           2\n                          2017           2\n                          2018           1\n                          2019           3\n                          2020           2\n                                        ..\nwidiba                    2019           4\n                          2020           3\n                          2021           4\n                          2022           4\n                          2023           3\nName: bank, Length: 81, dtype: int64"
     },
     "execution_count": 20,
     "metadata": {},
     "output_type": "execute_result"
    }
   ],
   "source": [
    "df.groupby(['bank', 'year_review'])['bank'].count()"
   ],
   "metadata": {
    "collapsed": false,
    "ExecuteTime": {
     "end_time": "2023-08-05T14:28:16.723875Z",
     "start_time": "2023-08-05T14:28:16.528001Z"
    }
   }
  },
  {
   "cell_type": "code",
   "execution_count": 21,
   "outputs": [
    {
     "data": {
      "text/plain": "count     729.000000\nmean     2017.773663\nstd         2.298965\nmin      2014.000000\n25%      2017.000000\n50%      2018.000000\n75%      2019.000000\nmax      2023.000000\nName: year_review, dtype: float64"
     },
     "execution_count": 21,
     "metadata": {},
     "output_type": "execute_result"
    }
   ],
   "source": [
    "df['year_review'].describe()"
   ],
   "metadata": {
    "collapsed": false,
    "ExecuteTime": {
     "end_time": "2023-08-05T14:28:16.724234Z",
     "start_time": "2023-08-05T14:28:16.533251Z"
    }
   }
  },
  {
   "cell_type": "code",
   "execution_count": 22,
   "outputs": [
    {
     "data": {
      "text/plain": "       home_banking     support  local_presence  year_review\ncount    729.000000  729.000000      729.000000   729.000000\nmean      46.941015   40.823045       42.277092  2017.773663\nstd       32.675529   31.244915       29.216416     2.298965\nmin       20.000000   20.000000       20.000000  2014.000000\n25%       20.000000   20.000000       20.000000  2017.000000\n50%       20.000000   20.000000       20.000000  2018.000000\n75%       80.000000   60.000000       60.000000  2019.000000\nmax      120.000000  100.000000      100.000000  2023.000000",
      "text/html": "<div>\n<style scoped>\n    .dataframe tbody tr th:only-of-type {\n        vertical-align: middle;\n    }\n\n    .dataframe tbody tr th {\n        vertical-align: top;\n    }\n\n    .dataframe thead th {\n        text-align: right;\n    }\n</style>\n<table border=\"1\" class=\"dataframe\">\n  <thead>\n    <tr style=\"text-align: right;\">\n      <th></th>\n      <th>home_banking</th>\n      <th>support</th>\n      <th>local_presence</th>\n      <th>year_review</th>\n    </tr>\n  </thead>\n  <tbody>\n    <tr>\n      <th>count</th>\n      <td>729.000000</td>\n      <td>729.000000</td>\n      <td>729.000000</td>\n      <td>729.000000</td>\n    </tr>\n    <tr>\n      <th>mean</th>\n      <td>46.941015</td>\n      <td>40.823045</td>\n      <td>42.277092</td>\n      <td>2017.773663</td>\n    </tr>\n    <tr>\n      <th>std</th>\n      <td>32.675529</td>\n      <td>31.244915</td>\n      <td>29.216416</td>\n      <td>2.298965</td>\n    </tr>\n    <tr>\n      <th>min</th>\n      <td>20.000000</td>\n      <td>20.000000</td>\n      <td>20.000000</td>\n      <td>2014.000000</td>\n    </tr>\n    <tr>\n      <th>25%</th>\n      <td>20.000000</td>\n      <td>20.000000</td>\n      <td>20.000000</td>\n      <td>2017.000000</td>\n    </tr>\n    <tr>\n      <th>50%</th>\n      <td>20.000000</td>\n      <td>20.000000</td>\n      <td>20.000000</td>\n      <td>2018.000000</td>\n    </tr>\n    <tr>\n      <th>75%</th>\n      <td>80.000000</td>\n      <td>60.000000</td>\n      <td>60.000000</td>\n      <td>2019.000000</td>\n    </tr>\n    <tr>\n      <th>max</th>\n      <td>120.000000</td>\n      <td>100.000000</td>\n      <td>100.000000</td>\n      <td>2023.000000</td>\n    </tr>\n  </tbody>\n</table>\n</div>"
     },
     "execution_count": 22,
     "metadata": {},
     "output_type": "execute_result"
    }
   ],
   "source": [
    "df.describe()"
   ],
   "metadata": {
    "collapsed": false,
    "ExecuteTime": {
     "end_time": "2023-08-05T14:28:16.724336Z",
     "start_time": "2023-08-05T14:28:16.537284Z"
    }
   }
  },
  {
   "cell_type": "markdown",
   "source": [
    "A 120 score for home_banking is not valid, we will drop the review, score ranges from 20 to 100."
   ],
   "metadata": {
    "collapsed": false
   }
  },
  {
   "cell_type": "code",
   "execution_count": 23,
   "outputs": [],
   "source": [
    "df.drop(df.loc[df['home_banking'] == 120].index, inplace=True)"
   ],
   "metadata": {
    "collapsed": false,
    "ExecuteTime": {
     "end_time": "2023-08-05T14:28:16.724642Z",
     "start_time": "2023-08-05T14:28:16.544934Z"
    }
   }
  },
  {
   "cell_type": "code",
   "execution_count": 24,
   "outputs": [
    {
     "data": {
      "text/plain": "       home_banking     support  local_presence  year_review\ncount    728.000000  728.000000      728.000000   728.000000\nmean      46.840659   40.851648       42.307692  2017.771978\nstd       32.585377   31.256845       29.224810     2.300095\nmin       20.000000   20.000000       20.000000  2014.000000\n25%       20.000000   20.000000       20.000000  2016.750000\n50%       20.000000   20.000000       20.000000  2018.000000\n75%       80.000000   60.000000       60.000000  2019.000000\nmax      100.000000  100.000000      100.000000  2023.000000",
      "text/html": "<div>\n<style scoped>\n    .dataframe tbody tr th:only-of-type {\n        vertical-align: middle;\n    }\n\n    .dataframe tbody tr th {\n        vertical-align: top;\n    }\n\n    .dataframe thead th {\n        text-align: right;\n    }\n</style>\n<table border=\"1\" class=\"dataframe\">\n  <thead>\n    <tr style=\"text-align: right;\">\n      <th></th>\n      <th>home_banking</th>\n      <th>support</th>\n      <th>local_presence</th>\n      <th>year_review</th>\n    </tr>\n  </thead>\n  <tbody>\n    <tr>\n      <th>count</th>\n      <td>728.000000</td>\n      <td>728.000000</td>\n      <td>728.000000</td>\n      <td>728.000000</td>\n    </tr>\n    <tr>\n      <th>mean</th>\n      <td>46.840659</td>\n      <td>40.851648</td>\n      <td>42.307692</td>\n      <td>2017.771978</td>\n    </tr>\n    <tr>\n      <th>std</th>\n      <td>32.585377</td>\n      <td>31.256845</td>\n      <td>29.224810</td>\n      <td>2.300095</td>\n    </tr>\n    <tr>\n      <th>min</th>\n      <td>20.000000</td>\n      <td>20.000000</td>\n      <td>20.000000</td>\n      <td>2014.000000</td>\n    </tr>\n    <tr>\n      <th>25%</th>\n      <td>20.000000</td>\n      <td>20.000000</td>\n      <td>20.000000</td>\n      <td>2016.750000</td>\n    </tr>\n    <tr>\n      <th>50%</th>\n      <td>20.000000</td>\n      <td>20.000000</td>\n      <td>20.000000</td>\n      <td>2018.000000</td>\n    </tr>\n    <tr>\n      <th>75%</th>\n      <td>80.000000</td>\n      <td>60.000000</td>\n      <td>60.000000</td>\n      <td>2019.000000</td>\n    </tr>\n    <tr>\n      <th>max</th>\n      <td>100.000000</td>\n      <td>100.000000</td>\n      <td>100.000000</td>\n      <td>2023.000000</td>\n    </tr>\n  </tbody>\n</table>\n</div>"
     },
     "execution_count": 24,
     "metadata": {},
     "output_type": "execute_result"
    }
   ],
   "source": [
    "df.describe()"
   ],
   "metadata": {
    "collapsed": false,
    "ExecuteTime": {
     "end_time": "2023-08-05T14:28:16.724698Z",
     "start_time": "2023-08-05T14:28:16.547409Z"
    }
   }
  },
  {
   "cell_type": "code",
   "execution_count": 25,
   "outputs": [
    {
     "data": {
      "text/plain": "count     728.000000\nmean     2017.771978\nstd         2.300095\nmin      2014.000000\n25%      2016.750000\n50%      2018.000000\n75%      2019.000000\nmax      2023.000000\nName: year_review, dtype: float64"
     },
     "execution_count": 25,
     "metadata": {},
     "output_type": "execute_result"
    }
   ],
   "source": [
    "df['year_review'].describe()"
   ],
   "metadata": {
    "collapsed": false,
    "ExecuteTime": {
     "end_time": "2023-08-05T14:28:16.724763Z",
     "start_time": "2023-08-05T14:28:16.554565Z"
    }
   }
  },
  {
   "cell_type": "code",
   "execution_count": 26,
   "outputs": [],
   "source": [
    "def weight_for_year(year):\n",
    "    weight_score_lte_2016 = 10\n",
    "    weight_score_btwn_2016_2018 = 20\n",
    "    weight_score_btwn_2018_2019 = 30\n",
    "    weight_score_gte_2019 = 40\n",
    "    if year <= 2016:\n",
    "        return weight_score_lte_2016\n",
    "    elif  year == 2017:\n",
    "        return weight_score_btwn_2016_2018\n",
    "    elif year == 2018:\n",
    "        return weight_score_btwn_2018_2019\n",
    "    elif year >= 2019:\n",
    "        return weight_score_gte_2019\n",
    "    else:\n",
    "        raise RuntimeError('Undefined score')"
   ],
   "metadata": {
    "collapsed": false,
    "ExecuteTime": {
     "end_time": "2023-08-05T14:28:16.724793Z",
     "start_time": "2023-08-05T14:28:16.558193Z"
    }
   }
  },
  {
   "cell_type": "code",
   "execution_count": 27,
   "outputs": [],
   "source": [
    "df['year_score_weight'] = df['year_review'].apply(weight_for_year)"
   ],
   "metadata": {
    "collapsed": false,
    "ExecuteTime": {
     "end_time": "2023-08-05T14:28:16.724849Z",
     "start_time": "2023-08-05T14:28:16.560346Z"
    }
   }
  },
  {
   "cell_type": "code",
   "execution_count": 28,
   "outputs": [],
   "source": [
    "def scores_per_bank(bank_name, df):\n",
    "    \"\"\"\n",
    "    Scaling review scores according to the date,\n",
    "    recent scores have a higher weight compared to older ones.\n",
    "    \"\"\"\n",
    "    res = {}\n",
    "    bank_rows = df['bank'] == bank_name\n",
    "    score_cols = ['home_banking', 'support', 'local_presence']\n",
    "    for s in score_cols:\n",
    "        # Weighted average\n",
    "        s_weighted_avg = round((df.loc[bank_rows][s] * df.loc[bank_rows]['year_score_weight']).sum() / df.loc[bank_rows]['year_score_weight'].sum(), 2)\n",
    "        res[s] = s_weighted_avg\n",
    "    return res"
   ],
   "metadata": {
    "collapsed": false,
    "ExecuteTime": {
     "end_time": "2023-08-05T14:28:16.724883Z",
     "start_time": "2023-08-05T14:28:16.563020Z"
    }
   }
  },
  {
   "cell_type": "code",
   "execution_count": 29,
   "outputs": [],
   "source": [
    "bank_scores = []\n",
    "for bank in selected_banks:\n",
    "    bank_score = {'bank_name': bank}\n",
    "    scores = scores_per_bank(bank, df)\n",
    "    # | merges two dict\n",
    "    bank_scores.append(bank_score | scores)"
   ],
   "metadata": {
    "collapsed": false,
    "ExecuteTime": {
     "end_time": "2023-08-05T14:28:16.724977Z",
     "start_time": "2023-08-05T14:28:16.570102Z"
    }
   }
  },
  {
   "cell_type": "code",
   "execution_count": 30,
   "outputs": [
    {
     "data": {
      "text/plain": "[{'bank_name': 'widiba',\n  'home_banking': 42.52,\n  'support': 34.95,\n  'local_presence': 33.3},\n {'bank_name': 'monte-dei-paschi-di-siena',\n  'home_banking': 31.54,\n  'support': 23.59,\n  'local_presence': 31.03},\n {'bank_name': 'banca-popolare-di-milano',\n  'home_banking': 43.41,\n  'support': 32.68,\n  'local_presence': 35.61},\n {'bank_name': 'bnl',\n  'home_banking': 24.24,\n  'support': 20.0,\n  'local_presence': 27.27},\n {'bank_name': 'che-banca',\n  'home_banking': 41.36,\n  'support': 35.59,\n  'local_presence': 31.61},\n {'bank_name': 'ing-direct',\n  'home_banking': 47.94,\n  'support': 38.29,\n  'local_presence': 30.6},\n {'bank_name': 'intesa-sanpaolo',\n  'home_banking': 39.39,\n  'support': 38.28,\n  'local_presence': 52.09},\n {'bank_name': 'unicredit',\n  'home_banking': 45.31,\n  'support': 35.55,\n  'local_presence': 52.32},\n {'bank_name': 'banca-sella',\n  'home_banking': 48.09,\n  'support': 39.57,\n  'local_presence': 40.85},\n {'bank_name': 'credit-agricole',\n  'home_banking': 33.02,\n  'support': 28.3,\n  'local_presence': 40.75}]"
     },
     "execution_count": 30,
     "metadata": {},
     "output_type": "execute_result"
    }
   ],
   "source": [
    "bank_scores"
   ],
   "metadata": {
    "collapsed": false,
    "ExecuteTime": {
     "end_time": "2023-08-05T14:28:16.725062Z",
     "start_time": "2023-08-05T14:28:16.579520Z"
    }
   }
  },
  {
   "cell_type": "code",
   "execution_count": 31,
   "outputs": [],
   "source": [
    "scores_df = pd.DataFrame(bank_scores)"
   ],
   "metadata": {
    "collapsed": false,
    "ExecuteTime": {
     "end_time": "2023-08-05T14:28:16.725100Z",
     "start_time": "2023-08-05T14:28:16.581964Z"
    }
   }
  },
  {
   "cell_type": "code",
   "execution_count": 32,
   "outputs": [
    {
     "data": {
      "text/plain": "<Figure size 640x480 with 1 Axes>",
      "image/png": "[encoded data removed]"
     },
     "metadata": {},
     "output_type": "display_data"
    }
   ],
   "source": [
    "sns.barplot(scores_df, x='home_banking', y='bank_name', order=scores_df.sort_values('home_banking', ascending=False).bank_name)\n",
    "plt.xlabel(\"Homebanking\", size=10)\n",
    "plt.ylabel(\"Bank\", size=10)\n",
    "plt.tight_layout()"
   ],
   "metadata": {
    "collapsed": false,
    "ExecuteTime": {
     "end_time": "2023-08-05T14:28:16.802894Z",
     "start_time": "2023-08-05T14:28:16.587355Z"
    }
   }
  },
  {
   "cell_type": "code",
   "execution_count": 33,
   "outputs": [
    {
     "data": {
      "text/plain": "<Figure size 640x480 with 1 Axes>",
      "image/png": "[encoded data removed]"
     },
     "metadata": {},
     "output_type": "display_data"
    }
   ],
   "source": [
    "sns.barplot(scores_df, x='support', y='bank_name', order=scores_df.sort_values('support', ascending=False).bank_name)\n",
    "plt.xlabel(\"Support\", size=10)\n",
    "plt.ylabel(\"Bank\", size=10)\n",
    "plt.tight_layout()"
   ],
   "metadata": {
    "collapsed": false,
    "ExecuteTime": {
     "end_time": "2023-08-05T14:28:16.911733Z",
     "start_time": "2023-08-05T14:28:16.711799Z"
    }
   }
  },
  {
   "cell_type": "code",
   "execution_count": 34,
   "outputs": [
    {
     "data": {
      "text/plain": "<Figure size 640x480 with 1 Axes>",
      "image/png": "[encoded data removed]"
     },
     "metadata": {},
     "output_type": "display_data"
    }
   ],
   "source": [
    "sns.barplot(scores_df, x='local_presence', y='bank_name', order=scores_df.sort_values('local_presence', ascending=False).bank_name)\n",
    "plt.xlabel(\"Local presence\", size=10)\n",
    "plt.ylabel(\"Bank\", size=10)\n",
    "plt.tight_layout()"
   ],
   "metadata": {
    "collapsed": false,
    "ExecuteTime": {
     "end_time": "2023-08-05T14:28:16.951681Z",
     "start_time": "2023-08-05T14:28:16.833940Z"
    }
   }
  },
  {
   "cell_type": "code",
   "execution_count": 35,
   "outputs": [],
   "source": [
    "scores_df['mean_score'] = (scores_df['home_banking'] + scores_df['support'] + scores_df['local_presence']) / 3.0"
   ],
   "metadata": {
    "collapsed": false,
    "ExecuteTime": {
     "end_time": "2023-08-05T14:28:16.952896Z",
     "start_time": "2023-08-05T14:28:16.939360Z"
    }
   }
  },
  {
   "cell_type": "code",
   "execution_count": 36,
   "outputs": [
    {
     "data": {
      "text/plain": "<Figure size 640x480 with 1 Axes>",
      "image/png": "[encoded data removed]"
     },
     "metadata": {},
     "output_type": "display_data"
    }
   ],
   "source": [
    "sns.barplot(scores_df, x='mean_score', y='bank_name', order=scores_df.sort_values('mean_score', ascending=False).bank_name)\n",
    "plt.xlabel(\"Mean score\", size=10)\n",
    "plt.ylabel(\"Bank\", size=10)\n",
    "plt.tight_layout()"
   ],
   "metadata": {
    "collapsed": false,
    "ExecuteTime": {
     "end_time": "2023-08-05T14:28:17.048851Z",
     "start_time": "2023-08-05T14:28:16.941992Z"
    }
   }
  },
  {
   "cell_type": "code",
   "execution_count": 37,
   "outputs": [
    {
     "data": {
      "text/plain": "                   bank_name  home_banking  support  local_presence  \\\n0                     widiba         42.52    34.95           33.30   \n1  monte-dei-paschi-di-siena         31.54    23.59           31.03   \n2   banca-popolare-di-milano         43.41    32.68           35.61   \n3                        bnl         24.24    20.00           27.27   \n4                  che-banca         41.36    35.59           31.61   \n5                 ing-direct         47.94    38.29           30.60   \n6            intesa-sanpaolo         39.39    38.28           52.09   \n7                  unicredit         45.31    35.55           52.32   \n8                banca-sella         48.09    39.57           40.85   \n9            credit-agricole         33.02    28.30           40.75   \n\n   mean_score  \n0   36.923333  \n1   28.720000  \n2   37.233333  \n3   23.836667  \n4   36.186667  \n5   38.943333  \n6   43.253333  \n7   44.393333  \n8   42.836667  \n9   34.023333  ",
      "text/html": "<div>\n<style scoped>\n    .dataframe tbody tr th:only-of-type {\n        vertical-align: middle;\n    }\n\n    .dataframe tbody tr th {\n        vertical-align: top;\n    }\n\n    .dataframe thead th {\n        text-align: right;\n    }\n</style>\n<table border=\"1\" class=\"dataframe\">\n  <thead>\n    <tr style=\"text-align: right;\">\n      <th></th>\n      <th>bank_name</th>\n      <th>home_banking</th>\n      <th>support</th>\n      <th>local_presence</th>\n      <th>mean_score</th>\n    </tr>\n  </thead>\n  <tbody>\n    <tr>\n      <th>0</th>\n      <td>widiba</td>\n      <td>42.52</td>\n      <td>34.95</td>\n      <td>33.30</td>\n      <td>36.923333</td>\n    </tr>\n    <tr>\n      <th>1</th>\n      <td>monte-dei-paschi-di-siena</td>\n      <td>31.54</td>\n      <td>23.59</td>\n      <td>31.03</td>\n      <td>28.720000</td>\n    </tr>\n    <tr>\n      <th>2</th>\n      <td>banca-popolare-di-milano</td>\n      <td>43.41</td>\n      <td>32.68</td>\n      <td>35.61</td>\n      <td>37.233333</td>\n    </tr>\n    <tr>\n      <th>3</th>\n      <td>bnl</td>\n      <td>24.24</td>\n      <td>20.00</td>\n      <td>27.27</td>\n      <td>23.836667</td>\n    </tr>\n    <tr>\n      <th>4</th>\n      <td>che-banca</td>\n      <td>41.36</td>\n      <td>35.59</td>\n      <td>31.61</td>\n      <td>36.186667</td>\n    </tr>\n    <tr>\n      <th>5</th>\n      <td>ing-direct</td>\n      <td>47.94</td>\n      <td>38.29</td>\n      <td>30.60</td>\n      <td>38.943333</td>\n    </tr>\n    <tr>\n      <th>6</th>\n      <td>intesa-sanpaolo</td>\n      <td>39.39</td>\n      <td>38.28</td>\n      <td>52.09</td>\n      <td>43.253333</td>\n    </tr>\n    <tr>\n      <th>7</th>\n      <td>unicredit</td>\n      <td>45.31</td>\n      <td>35.55</td>\n      <td>52.32</td>\n      <td>44.393333</td>\n    </tr>\n    <tr>\n      <th>8</th>\n      <td>banca-sella</td>\n      <td>48.09</td>\n      <td>39.57</td>\n      <td>40.85</td>\n      <td>42.836667</td>\n    </tr>\n    <tr>\n      <th>9</th>\n      <td>credit-agricole</td>\n      <td>33.02</td>\n      <td>28.30</td>\n      <td>40.75</td>\n      <td>34.023333</td>\n    </tr>\n  </tbody>\n</table>\n</div>"
     },
     "execution_count": 37,
     "metadata": {},
     "output_type": "execute_result"
    }
   ],
   "source": [
    "scores_df"
   ],
   "metadata": {
    "collapsed": false,
    "ExecuteTime": {
     "end_time": "2023-08-05T14:28:17.053620Z",
     "start_time": "2023-08-05T14:28:17.051476Z"
    }
   }
  },
  {
   "cell_type": "code",
   "execution_count": 38,
   "outputs": [],
   "source": [
    "def normalized_score_min_max(x, col_name, data_frame, reversed_scale=False):\n",
    "    min_score = data_frame[col_name].min()\n",
    "    max_score = data_frame[col_name].max()\n",
    "    if reversed_scale:\n",
    "        normalized_val = (max_score - x) / (max_score - min_score)\n",
    "    else:\n",
    "        normalized_val = (x - min_score) / (max_score - min_score)\n",
    "    return normalized_val"
   ],
   "metadata": {
    "collapsed": false,
    "ExecuteTime": {
     "end_time": "2023-08-05T14:28:17.056340Z",
     "start_time": "2023-08-05T14:28:17.055084Z"
    }
   }
  },
  {
   "cell_type": "code",
   "execution_count": 39,
   "outputs": [],
   "source": [
    "score_cols = ['home_banking', 'support', 'local_presence']"
   ],
   "metadata": {
    "collapsed": false,
    "ExecuteTime": {
     "end_time": "2023-08-05T14:28:17.058592Z",
     "start_time": "2023-08-05T14:28:17.057211Z"
    }
   }
  },
  {
   "cell_type": "code",
   "execution_count": 40,
   "outputs": [],
   "source": [
    "for s in score_cols:\n",
    "    name_col = f'normalized_{s}'\n",
    "    scores_df[name_col] = scores_df[s].apply(normalized_score_min_max, args=(s, scores_df))"
   ],
   "metadata": {
    "collapsed": false,
    "ExecuteTime": {
     "end_time": "2023-08-05T14:28:17.062780Z",
     "start_time": "2023-08-05T14:28:17.061389Z"
    }
   }
  },
  {
   "cell_type": "code",
   "execution_count": 41,
   "outputs": [],
   "source": [
    "scores_df.set_index('bank_name', inplace=True)"
   ],
   "metadata": {
    "collapsed": false,
    "ExecuteTime": {
     "end_time": "2023-08-05T14:28:17.064712Z",
     "start_time": "2023-08-05T14:28:17.063774Z"
    }
   }
  },
  {
   "cell_type": "markdown",
   "source": [
    "We now acquire banking kpi"
   ],
   "metadata": {
    "collapsed": false
   }
  },
  {
   "cell_type": "code",
   "execution_count": 42,
   "outputs": [],
   "source": [
    "df_banking = pd.read_csv('data/indicatori.csv')"
   ],
   "metadata": {
    "collapsed": false,
    "ExecuteTime": {
     "end_time": "2023-08-05T14:28:17.087980Z",
     "start_time": "2023-08-05T14:28:17.066118Z"
    }
   }
  },
  {
   "cell_type": "code",
   "execution_count": 43,
   "outputs": [
    {
     "data": {
      "text/plain": "                                 Banca  TIER1 ratio  Total capital ratio  \\\n0                      INTESA SANPAOLO        16.00                19.00   \n1                        UNICREDIT SPA        17.97                20.88   \n2                          ING BANK NV        14.51                17.54   \n3                        BANCO BPM SPA        16.00                19.00   \n4  BANCA MONTE DEI PASCHI DI SIENA SPA        15.79                19.67   \n5        CREDIT AGRICOLE ITALIA S.P.A.        15.30                18.30   \n6       BANCA NAZIONALE DEL LAVORO SPA        12.47                15.01   \n7                      BANCA SELLA SPA        18.63                21.16   \n8                  BANCA WIDIBA S.P.A.        21.83                21.83   \n\n      ROE  cyber risk rating  crediti in sofferenza / tot crediti  \\\n0   9.717             751.43                             2.212101   \n1  11.479             750.00                             2.445522   \n2  12.757             720.00                             1.747185   \n3   8.011             740.00                             3.635720   \n4  -8.097             750.00                             3.920501   \n5   7.532             751.43                             3.426325   \n6   8.762             751.43                             4.824468   \n7  12.374             770.00                             2.571096   \n8   9.405             750.00                             1.748415   \n\n   Tasso variazione biennale Utile  normalized_TIER1_ratio  normalized_ROE  \\\n0                         0.332420                0.377137        0.854225   \n1                         3.330094                0.587607        0.938717   \n2                         0.511833                0.217949        1.000000   \n3                        41.195948                0.377137        0.772418   \n4                         0.878546                0.354701        0.000000   \n5                        13.387322                0.302350        0.749449   \n6                         0.817948                0.000000        0.808430   \n7                         1.680982                0.658120        0.981634   \n8                         0.497005                1.000000        0.839263   \n\n   normalized_cyber_risk_rating  \\\n0                        0.6286   \n1                        0.6000   \n2                        0.0000   \n3                        0.4000   \n4                        0.6000   \n5                        0.6286   \n6                        0.6286   \n7                        1.0000   \n8                        0.6000   \n\n   normalized_crediti in sofferenza / tot crediti  \\\n0                                        0.151080   \n1                                        0.226933   \n2                                        0.000000   \n3                                        0.613702   \n4                                        0.706245   \n5                                        0.545657   \n6                                        1.000000   \n7                                        0.267740   \n8                                        0.000400   \n\n   normalized_Tasso variazione biennale Utile  \n0                                    0.000000  \n1                                    0.073358  \n2                                    0.004391  \n3                                    1.000000  \n4                                    0.013365  \n5                                    0.319476  \n6                                    0.011882  \n7                                    0.033002  \n8                                    0.004028  ",
      "text/html": "<div>\n<style scoped>\n    .dataframe tbody tr th:only-of-type {\n        vertical-align: middle;\n    }\n\n    .dataframe tbody tr th {\n        vertical-align: top;\n    }\n\n    .dataframe thead th {\n        text-align: right;\n    }\n</style>\n<table border=\"1\" class=\"dataframe\">\n  <thead>\n    <tr style=\"text-align: right;\">\n      <th></th>\n      <th>Banca</th>\n      <th>TIER1 ratio</th>\n      <th>Total capital ratio</th>\n      <th>ROE</th>\n      <th>cyber risk rating</th>\n      <th>crediti in sofferenza / tot crediti</th>\n      <th>Tasso variazione biennale Utile</th>\n      <th>normalized_TIER1_ratio</th>\n      <th>normalized_ROE</th>\n      <th>normalized_cyber_risk_rating</th>\n      <th>normalized_crediti in sofferenza / tot crediti</th>\n      <th>normalized_Tasso variazione biennale Utile</th>\n    </tr>\n  </thead>\n  <tbody>\n    <tr>\n      <th>0</th>\n      <td>INTESA SANPAOLO</td>\n      <td>16.00</td>\n      <td>19.00</td>\n      <td>9.717</td>\n      <td>751.43</td>\n      <td>2.212101</td>\n      <td>0.332420</td>\n      <td>0.377137</td>\n      <td>0.854225</td>\n      <td>0.6286</td>\n      <td>0.151080</td>\n      <td>0.000000</td>\n    </tr>\n    <tr>\n      <th>1</th>\n      <td>UNICREDIT SPA</td>\n      <td>17.97</td>\n      <td>20.88</td>\n      <td>11.479</td>\n      <td>750.00</td>\n      <td>2.445522</td>\n      <td>3.330094</td>\n      <td>0.587607</td>\n      <td>0.938717</td>\n      <td>0.6000</td>\n      <td>0.226933</td>\n      <td>0.073358</td>\n    </tr>\n    <tr>\n      <th>2</th>\n      <td>ING BANK NV</td>\n      <td>14.51</td>\n      <td>17.54</td>\n      <td>12.757</td>\n      <td>720.00</td>\n      <td>1.747185</td>\n      <td>0.511833</td>\n      <td>0.217949</td>\n      <td>1.000000</td>\n      <td>0.0000</td>\n      <td>0.000000</td>\n      <td>0.004391</td>\n    </tr>\n    <tr>\n      <th>3</th>\n      <td>BANCO BPM SPA</td>\n      <td>16.00</td>\n      <td>19.00</td>\n      <td>8.011</td>\n      <td>740.00</td>\n      <td>3.635720</td>\n      <td>41.195948</td>\n      <td>0.377137</td>\n      <td>0.772418</td>\n      <td>0.4000</td>\n      <td>0.613702</td>\n      <td>1.000000</td>\n    </tr>\n    <tr>\n      <th>4</th>\n      <td>BANCA MONTE DEI PASCHI DI SIENA SPA</td>\n      <td>15.79</td>\n      <td>19.67</td>\n      <td>-8.097</td>\n      <td>750.00</td>\n      <td>3.920501</td>\n      <td>0.878546</td>\n      <td>0.354701</td>\n      <td>0.000000</td>\n      <td>0.6000</td>\n      <td>0.706245</td>\n      <td>0.013365</td>\n    </tr>\n    <tr>\n      <th>5</th>\n      <td>CREDIT AGRICOLE ITALIA S.P.A.</td>\n      <td>15.30</td>\n      <td>18.30</td>\n      <td>7.532</td>\n      <td>751.43</td>\n      <td>3.426325</td>\n      <td>13.387322</td>\n      <td>0.302350</td>\n      <td>0.749449</td>\n      <td>0.6286</td>\n      <td>0.545657</td>\n      <td>0.319476</td>\n    </tr>\n    <tr>\n      <th>6</th>\n      <td>BANCA NAZIONALE DEL LAVORO SPA</td>\n      <td>12.47</td>\n      <td>15.01</td>\n      <td>8.762</td>\n      <td>751.43</td>\n      <td>4.824468</td>\n      <td>0.817948</td>\n      <td>0.000000</td>\n      <td>0.808430</td>\n      <td>0.6286</td>\n      <td>1.000000</td>\n      <td>0.011882</td>\n    </tr>\n    <tr>\n      <th>7</th>\n      <td>BANCA SELLA SPA</td>\n      <td>18.63</td>\n      <td>21.16</td>\n      <td>12.374</td>\n      <td>770.00</td>\n      <td>2.571096</td>\n      <td>1.680982</td>\n      <td>0.658120</td>\n      <td>0.981634</td>\n      <td>1.0000</td>\n      <td>0.267740</td>\n      <td>0.033002</td>\n    </tr>\n    <tr>\n      <th>8</th>\n      <td>BANCA WIDIBA S.P.A.</td>\n      <td>21.83</td>\n      <td>21.83</td>\n      <td>9.405</td>\n      <td>750.00</td>\n      <td>1.748415</td>\n      <td>0.497005</td>\n      <td>1.000000</td>\n      <td>0.839263</td>\n      <td>0.6000</td>\n      <td>0.000400</td>\n      <td>0.004028</td>\n    </tr>\n  </tbody>\n</table>\n</div>"
     },
     "execution_count": 43,
     "metadata": {},
     "output_type": "execute_result"
    }
   ],
   "source": [
    "df_banking.head(10)"
   ],
   "metadata": {
    "collapsed": false,
    "ExecuteTime": {
     "end_time": "2023-08-05T14:28:17.088653Z",
     "start_time": "2023-08-05T14:28:17.073231Z"
    }
   }
  },
  {
   "cell_type": "code",
   "execution_count": 44,
   "outputs": [],
   "source": [
    "df_banking.set_index('Banca', inplace=True)"
   ],
   "metadata": {
    "collapsed": false,
    "ExecuteTime": {
     "end_time": "2023-08-05T14:28:17.102615Z",
     "start_time": "2023-08-05T14:28:17.076724Z"
    }
   }
  },
  {
   "cell_type": "code",
   "execution_count": 45,
   "outputs": [],
   "source": [
    "df_banking.rename(index={\n",
    "    'INTESA SANPAOLO': 'intesa-sanpaolo',\n",
    "    'UNICREDIT SPA': 'unicredit',\n",
    "    'ING BANK NV': 'ing-direct',\n",
    "    'BANCO BPM SPA': 'banca-popolare-di-milano',\n",
    "    'BANCA MONTE DEI PASCHI DI SIENA SPA': 'monte-dei-paschi-di-siena',\n",
    "    'BANCA WIDIBA S.P.A.': 'widiba',\n",
    "    'BANCA NAZIONALE DEL LAVORO SPA': 'bnl',\n",
    "    'BANCA SELLA SPA': 'banca-sella',\n",
    "    'CREDIT AGRICOLE ITALIA S.P.A.': 'credit-agricole'\n",
    "}, inplace=True)"
   ],
   "metadata": {
    "collapsed": false,
    "ExecuteTime": {
     "end_time": "2023-08-05T14:28:17.102789Z",
     "start_time": "2023-08-05T14:28:17.079144Z"
    }
   }
  },
  {
   "cell_type": "code",
   "execution_count": 46,
   "outputs": [],
   "source": [
    "df_banking_subset = df_banking.loc[:,['TIER1 ratio', 'normalized_TIER1_ratio', 'ROE', 'normalized_ROE', 'cyber risk rating', 'normalized_cyber_risk_rating']]"
   ],
   "metadata": {
    "collapsed": false,
    "ExecuteTime": {
     "end_time": "2023-08-05T14:28:17.102857Z",
     "start_time": "2023-08-05T14:28:17.081388Z"
    }
   }
  },
  {
   "cell_type": "code",
   "execution_count": 47,
   "outputs": [
    {
     "data": {
      "text/plain": "                           TIER1 ratio  normalized_TIER1_ratio     ROE  \\\nBanca                                                                    \nintesa-sanpaolo                  16.00                0.377137   9.717   \nunicredit                        17.97                0.587607  11.479   \ning-direct                       14.51                0.217949  12.757   \nbanca-popolare-di-milano         16.00                0.377137   8.011   \nmonte-dei-paschi-di-siena        15.79                0.354701  -8.097   \ncredit-agricole                  15.30                0.302350   7.532   \nbnl                              12.47                0.000000   8.762   \nbanca-sella                      18.63                0.658120  12.374   \nwidiba                           21.83                1.000000   9.405   \n\n                           normalized_ROE  cyber risk rating  \\\nBanca                                                          \nintesa-sanpaolo                  0.854225             751.43   \nunicredit                        0.938717             750.00   \ning-direct                       1.000000             720.00   \nbanca-popolare-di-milano         0.772418             740.00   \nmonte-dei-paschi-di-siena        0.000000             750.00   \ncredit-agricole                  0.749449             751.43   \nbnl                              0.808430             751.43   \nbanca-sella                      0.981634             770.00   \nwidiba                           0.839263             750.00   \n\n                           normalized_cyber_risk_rating  \nBanca                                                    \nintesa-sanpaolo                                  0.6286  \nunicredit                                        0.6000  \ning-direct                                       0.0000  \nbanca-popolare-di-milano                         0.4000  \nmonte-dei-paschi-di-siena                        0.6000  \ncredit-agricole                                  0.6286  \nbnl                                              0.6286  \nbanca-sella                                      1.0000  \nwidiba                                           0.6000  ",
      "text/html": "<div>\n<style scoped>\n    .dataframe tbody tr th:only-of-type {\n        vertical-align: middle;\n    }\n\n    .dataframe tbody tr th {\n        vertical-align: top;\n    }\n\n    .dataframe thead th {\n        text-align: right;\n    }\n</style>\n<table border=\"1\" class=\"dataframe\">\n  <thead>\n    <tr style=\"text-align: right;\">\n      <th></th>\n      <th>TIER1 ratio</th>\n      <th>normalized_TIER1_ratio</th>\n      <th>ROE</th>\n      <th>normalized_ROE</th>\n      <th>cyber risk rating</th>\n      <th>normalized_cyber_risk_rating</th>\n    </tr>\n    <tr>\n      <th>Banca</th>\n      <th></th>\n      <th></th>\n      <th></th>\n      <th></th>\n      <th></th>\n      <th></th>\n    </tr>\n  </thead>\n  <tbody>\n    <tr>\n      <th>intesa-sanpaolo</th>\n      <td>16.00</td>\n      <td>0.377137</td>\n      <td>9.717</td>\n      <td>0.854225</td>\n      <td>751.43</td>\n      <td>0.6286</td>\n    </tr>\n    <tr>\n      <th>unicredit</th>\n      <td>17.97</td>\n      <td>0.587607</td>\n      <td>11.479</td>\n      <td>0.938717</td>\n      <td>750.00</td>\n      <td>0.6000</td>\n    </tr>\n    <tr>\n      <th>ing-direct</th>\n      <td>14.51</td>\n      <td>0.217949</td>\n      <td>12.757</td>\n      <td>1.000000</td>\n      <td>720.00</td>\n      <td>0.0000</td>\n    </tr>\n    <tr>\n      <th>banca-popolare-di-milano</th>\n      <td>16.00</td>\n      <td>0.377137</td>\n      <td>8.011</td>\n      <td>0.772418</td>\n      <td>740.00</td>\n      <td>0.4000</td>\n    </tr>\n    <tr>\n      <th>monte-dei-paschi-di-siena</th>\n      <td>15.79</td>\n      <td>0.354701</td>\n      <td>-8.097</td>\n      <td>0.000000</td>\n      <td>750.00</td>\n      <td>0.6000</td>\n    </tr>\n    <tr>\n      <th>credit-agricole</th>\n      <td>15.30</td>\n      <td>0.302350</td>\n      <td>7.532</td>\n      <td>0.749449</td>\n      <td>751.43</td>\n      <td>0.6286</td>\n    </tr>\n    <tr>\n      <th>bnl</th>\n      <td>12.47</td>\n      <td>0.000000</td>\n      <td>8.762</td>\n      <td>0.808430</td>\n      <td>751.43</td>\n      <td>0.6286</td>\n    </tr>\n    <tr>\n      <th>banca-sella</th>\n      <td>18.63</td>\n      <td>0.658120</td>\n      <td>12.374</td>\n      <td>0.981634</td>\n      <td>770.00</td>\n      <td>1.0000</td>\n    </tr>\n    <tr>\n      <th>widiba</th>\n      <td>21.83</td>\n      <td>1.000000</td>\n      <td>9.405</td>\n      <td>0.839263</td>\n      <td>750.00</td>\n      <td>0.6000</td>\n    </tr>\n  </tbody>\n</table>\n</div>"
     },
     "execution_count": 47,
     "metadata": {},
     "output_type": "execute_result"
    }
   ],
   "source": [
    "df_banking_subset"
   ],
   "metadata": {
    "collapsed": false,
    "ExecuteTime": {
     "end_time": "2023-08-05T14:28:17.102980Z",
     "start_time": "2023-08-05T14:28:17.086278Z"
    }
   }
  },
  {
   "cell_type": "markdown",
   "source": [
    "We now acquire mortgages rates\n"
   ],
   "metadata": {
    "collapsed": false
   }
  },
  {
   "cell_type": "code",
   "execution_count": 48,
   "outputs": [],
   "source": [
    "mortgage_df_1968 = pd.read_csv('data/mutui_1968.csv')\n",
    "mortgage_df_1978 = pd.read_csv('data/mutui_1978.csv')\n",
    "mortgage_df_1988 = pd.read_csv('data/mutui_1988.csv')\n",
    "mortgage_df_1998 = pd.read_csv('data/mutui_1998.csv')"
   ],
   "metadata": {
    "collapsed": false,
    "ExecuteTime": {
     "end_time": "2023-08-05T14:28:17.133637Z",
     "start_time": "2023-08-05T14:28:17.089049Z"
    }
   }
  },
  {
   "cell_type": "code",
   "execution_count": 49,
   "outputs": [],
   "source": [
    "mortgages = [mortgage_df_1968, mortgage_df_1978, mortgage_df_1988, mortgage_df_1998]"
   ],
   "metadata": {
    "collapsed": false,
    "ExecuteTime": {
     "end_time": "2023-08-05T14:28:17.134051Z",
     "start_time": "2023-08-05T14:28:17.095761Z"
    }
   }
  },
  {
   "cell_type": "code",
   "execution_count": 50,
   "outputs": [],
   "source": [
    "for m in mortgages:\n",
    "    m.set_index('Banca', inplace=True)\n",
    "    m.rename(index={\n",
    "     'INTESA SANPAOLO': 'intesa-sanpaolo',\n",
    "     'UNICREDIT': 'unicredit',\n",
    "     'ING': 'ing-direct',\n",
    "     'BANCO BPM': 'banca-popolare-di-milano',\n",
    "     'BANCA MONTE DEI PASCHI DI SIENA': 'monte-dei-paschi-di-siena',\n",
    "     'BANCA WIDIBA S.P.A.': 'widiba',\n",
    "     'BNL - GRUPPO BNP PARIBAS': 'bnl',\n",
    "     'BANCA SELLA': 'banca-sella',\n",
    "     'CRÉDIT AGRICOLE ITALIA': 'credit-agricole'\n",
    "    }, inplace=True)\n",
    "    m['normalized_taeg'] = m['Taeg'].apply(normalized_score_min_max, args=('Taeg', m, True))"
   ],
   "metadata": {
    "collapsed": false,
    "ExecuteTime": {
     "end_time": "2023-08-05T14:28:17.134114Z",
     "start_time": "2023-08-05T14:28:17.102739Z"
    }
   }
  },
  {
   "cell_type": "code",
   "execution_count": 51,
   "outputs": [],
   "source": [
    "mortgages_1968_taeg = mortgages[0].loc[:, ['Taeg', 'normalized_taeg']]\n",
    "mortgages_1978_taeg = mortgages[1].loc[:, ['Taeg', 'normalized_taeg']]\n",
    "mortgages_1988_taeg = mortgages[2].loc[:, ['Taeg', 'normalized_taeg']]\n",
    "mortgages_1998_taeg = mortgages[3].loc[:, ['Taeg', 'normalized_taeg']]"
   ],
   "metadata": {
    "collapsed": false,
    "ExecuteTime": {
     "end_time": "2023-08-05T14:28:17.134162Z",
     "start_time": "2023-08-05T14:28:17.105572Z"
    }
   }
  },
  {
   "cell_type": "code",
   "execution_count": 52,
   "outputs": [],
   "source": [
    "reviews_and_banking_kpi = pd.merge(scores_df, df_banking_subset, left_index=True, right_index=True)"
   ],
   "metadata": {
    "collapsed": false,
    "ExecuteTime": {
     "end_time": "2023-08-05T14:28:17.154847Z",
     "start_time": "2023-08-05T14:28:17.108293Z"
    }
   }
  },
  {
   "cell_type": "code",
   "execution_count": 53,
   "outputs": [],
   "source": [
    "all_scores_mortgage_1968 = pd.merge(reviews_and_banking_kpi, mortgages_1968_taeg, left_index=True, right_index=True)\n",
    "all_scores_mortgage_1978 = pd.merge(reviews_and_banking_kpi, mortgages_1978_taeg, left_index=True, right_index=True)\n",
    "all_scores_mortgage_1988 = pd.merge(reviews_and_banking_kpi, mortgages_1988_taeg, left_index=True, right_index=True)\n",
    "all_scores_mortgage_1998 = pd.merge(reviews_and_banking_kpi, mortgages_1998_taeg, left_index=True, right_index=True)"
   ],
   "metadata": {
    "collapsed": false,
    "ExecuteTime": {
     "end_time": "2023-08-05T14:28:17.155001Z",
     "start_time": "2023-08-05T14:28:17.113433Z"
    }
   }
  },
  {
   "cell_type": "code",
   "execution_count": 54,
   "outputs": [
    {
     "data": {
      "text/plain": "                           home_banking  support  local_presence  mean_score  \\\nmonte-dei-paschi-di-siena         31.54    23.59           31.03   28.720000   \nbanca-popolare-di-milano          43.41    32.68           35.61   37.233333   \nbnl                               24.24    20.00           27.27   23.836667   \ning-direct                        47.94    38.29           30.60   38.943333   \nintesa-sanpaolo                   39.39    38.28           52.09   43.253333   \nunicredit                         45.31    35.55           52.32   44.393333   \nbanca-sella                       48.09    39.57           40.85   42.836667   \ncredit-agricole                   33.02    28.30           40.75   34.023333   \n\n                           normalized_home_banking  normalized_support  \\\nmonte-dei-paschi-di-siena                 0.306080            0.183444   \nbanca-popolare-di-milano                  0.803774            0.647931   \nbnl                                       0.000000            0.000000   \ning-direct                                0.993711            0.934594   \nintesa-sanpaolo                           0.635220            0.934083   \nunicredit                                 0.883438            0.794584   \nbanca-sella                               1.000000            1.000000   \ncredit-agricole                           0.368134            0.424119   \n\n                           normalized_local_presence  TIER1 ratio  \\\nmonte-dei-paschi-di-siena                   0.150100        15.79   \nbanca-popolare-di-milano                    0.332934        16.00   \nbnl                                         0.000000        12.47   \ning-direct                                  0.132934        14.51   \nintesa-sanpaolo                             0.990818        16.00   \nunicredit                                   1.000000        17.97   \nbanca-sella                                 0.542116        18.63   \ncredit-agricole                             0.538124        15.30   \n\n                           normalized_TIER1_ratio     ROE  normalized_ROE  \\\nmonte-dei-paschi-di-siena                0.354701  -8.097        0.000000   \nbanca-popolare-di-milano                 0.377137   8.011        0.772418   \nbnl                                      0.000000   8.762        0.808430   \ning-direct                               0.217949  12.757        1.000000   \nintesa-sanpaolo                          0.377137   9.717        0.854225   \nunicredit                                0.587607  11.479        0.938717   \nbanca-sella                              0.658120  12.374        0.981634   \ncredit-agricole                          0.302350   7.532        0.749449   \n\n                           cyber risk rating  normalized_cyber_risk_rating  \\\nmonte-dei-paschi-di-siena             750.00                        0.6000   \nbanca-popolare-di-milano              740.00                        0.4000   \nbnl                                   751.43                        0.6286   \ning-direct                            720.00                        0.0000   \nintesa-sanpaolo                       751.43                        0.6286   \nunicredit                             750.00                        0.6000   \nbanca-sella                           770.00                        1.0000   \ncredit-agricole                       751.43                        0.6286   \n\n                           Taeg  normalized_taeg  \nmonte-dei-paschi-di-siena  5.06         0.000000  \nbanca-popolare-di-milano   4.30         0.644068  \nbnl                        4.41         0.550847  \ning-direct                 4.54         0.440678  \nintesa-sanpaolo            4.26         0.677966  \nunicredit                  4.80         0.220339  \nbanca-sella                4.13         0.788136  \ncredit-agricole            4.14         0.779661  ",
      "text/html": "<div>\n<style scoped>\n    .dataframe tbody tr th:only-of-type {\n        vertical-align: middle;\n    }\n\n    .dataframe tbody tr th {\n        vertical-align: top;\n    }\n\n    .dataframe thead th {\n        text-align: right;\n    }\n</style>\n<table border=\"1\" class=\"dataframe\">\n  <thead>\n    <tr style=\"text-align: right;\">\n      <th></th>\n      <th>home_banking</th>\n      <th>support</th>\n      <th>local_presence</th>\n      <th>mean_score</th>\n      <th>normalized_home_banking</th>\n      <th>normalized_support</th>\n      <th>normalized_local_presence</th>\n      <th>TIER1 ratio</th>\n      <th>normalized_TIER1_ratio</th>\n      <th>ROE</th>\n      <th>normalized_ROE</th>\n      <th>cyber risk rating</th>\n      <th>normalized_cyber_risk_rating</th>\n      <th>Taeg</th>\n      <th>normalized_taeg</th>\n    </tr>\n  </thead>\n  <tbody>\n    <tr>\n      <th>monte-dei-paschi-di-siena</th>\n      <td>31.54</td>\n      <td>23.59</td>\n      <td>31.03</td>\n      <td>28.720000</td>\n      <td>0.306080</td>\n      <td>0.183444</td>\n      <td>0.150100</td>\n      <td>15.79</td>\n      <td>0.354701</td>\n      <td>-8.097</td>\n      <td>0.000000</td>\n      <td>750.00</td>\n      <td>0.6000</td>\n      <td>5.06</td>\n      <td>0.000000</td>\n    </tr>\n    <tr>\n      <th>banca-popolare-di-milano</th>\n      <td>43.41</td>\n      <td>32.68</td>\n      <td>35.61</td>\n      <td>37.233333</td>\n      <td>0.803774</td>\n      <td>0.647931</td>\n      <td>0.332934</td>\n      <td>16.00</td>\n      <td>0.377137</td>\n      <td>8.011</td>\n      <td>0.772418</td>\n      <td>740.00</td>\n      <td>0.4000</td>\n      <td>4.30</td>\n      <td>0.644068</td>\n    </tr>\n    <tr>\n      <th>bnl</th>\n      <td>24.24</td>\n      <td>20.00</td>\n      <td>27.27</td>\n      <td>23.836667</td>\n      <td>0.000000</td>\n      <td>0.000000</td>\n      <td>0.000000</td>\n      <td>12.47</td>\n      <td>0.000000</td>\n      <td>8.762</td>\n      <td>0.808430</td>\n      <td>751.43</td>\n      <td>0.6286</td>\n      <td>4.41</td>\n      <td>0.550847</td>\n    </tr>\n    <tr>\n      <th>ing-direct</th>\n      <td>47.94</td>\n      <td>38.29</td>\n      <td>30.60</td>\n      <td>38.943333</td>\n      <td>0.993711</td>\n      <td>0.934594</td>\n      <td>0.132934</td>\n      <td>14.51</td>\n      <td>0.217949</td>\n      <td>12.757</td>\n      <td>1.000000</td>\n      <td>720.00</td>\n      <td>0.0000</td>\n      <td>4.54</td>\n      <td>0.440678</td>\n    </tr>\n    <tr>\n      <th>intesa-sanpaolo</th>\n      <td>39.39</td>\n      <td>38.28</td>\n      <td>52.09</td>\n      <td>43.253333</td>\n      <td>0.635220</td>\n      <td>0.934083</td>\n      <td>0.990818</td>\n      <td>16.00</td>\n      <td>0.377137</td>\n      <td>9.717</td>\n      <td>0.854225</td>\n      <td>751.43</td>\n      <td>0.6286</td>\n      <td>4.26</td>\n      <td>0.677966</td>\n    </tr>\n    <tr>\n      <th>unicredit</th>\n      <td>45.31</td>\n      <td>35.55</td>\n      <td>52.32</td>\n      <td>44.393333</td>\n      <td>0.883438</td>\n      <td>0.794584</td>\n      <td>1.000000</td>\n      <td>17.97</td>\n      <td>0.587607</td>\n      <td>11.479</td>\n      <td>0.938717</td>\n      <td>750.00</td>\n      <td>0.6000</td>\n      <td>4.80</td>\n      <td>0.220339</td>\n    </tr>\n    <tr>\n      <th>banca-sella</th>\n      <td>48.09</td>\n      <td>39.57</td>\n      <td>40.85</td>\n      <td>42.836667</td>\n      <td>1.000000</td>\n      <td>1.000000</td>\n      <td>0.542116</td>\n      <td>18.63</td>\n      <td>0.658120</td>\n      <td>12.374</td>\n      <td>0.981634</td>\n      <td>770.00</td>\n      <td>1.0000</td>\n      <td>4.13</td>\n      <td>0.788136</td>\n    </tr>\n    <tr>\n      <th>credit-agricole</th>\n      <td>33.02</td>\n      <td>28.30</td>\n      <td>40.75</td>\n      <td>34.023333</td>\n      <td>0.368134</td>\n      <td>0.424119</td>\n      <td>0.538124</td>\n      <td>15.30</td>\n      <td>0.302350</td>\n      <td>7.532</td>\n      <td>0.749449</td>\n      <td>751.43</td>\n      <td>0.6286</td>\n      <td>4.14</td>\n      <td>0.779661</td>\n    </tr>\n  </tbody>\n</table>\n</div>"
     },
     "execution_count": 54,
     "metadata": {},
     "output_type": "execute_result"
    }
   ],
   "source": [
    "all_scores_mortgage_1968"
   ],
   "metadata": {
    "collapsed": false,
    "ExecuteTime": {
     "end_time": "2023-08-05T14:28:17.155185Z",
     "start_time": "2023-08-05T14:28:17.127908Z"
    }
   }
  },
  {
   "cell_type": "code",
   "execution_count": 55,
   "outputs": [
    {
     "data": {
      "text/plain": "                           home_banking  support  local_presence  mean_score  \\\nmonte-dei-paschi-di-siena         31.54    23.59           31.03   28.720000   \nbanca-popolare-di-milano          43.41    32.68           35.61   37.233333   \nbnl                               24.24    20.00           27.27   23.836667   \ning-direct                        47.94    38.29           30.60   38.943333   \nintesa-sanpaolo                   39.39    38.28           52.09   43.253333   \nunicredit                         45.31    35.55           52.32   44.393333   \nbanca-sella                       48.09    39.57           40.85   42.836667   \ncredit-agricole                   33.02    28.30           40.75   34.023333   \n\n                           normalized_home_banking  normalized_support  \\\nmonte-dei-paschi-di-siena                 0.306080            0.183444   \nbanca-popolare-di-milano                  0.803774            0.647931   \nbnl                                       0.000000            0.000000   \ning-direct                                0.993711            0.934594   \nintesa-sanpaolo                           0.635220            0.934083   \nunicredit                                 0.883438            0.794584   \nbanca-sella                               1.000000            1.000000   \ncredit-agricole                           0.368134            0.424119   \n\n                           normalized_local_presence  TIER1 ratio  \\\nmonte-dei-paschi-di-siena                   0.150100        15.79   \nbanca-popolare-di-milano                    0.332934        16.00   \nbnl                                         0.000000        12.47   \ning-direct                                  0.132934        14.51   \nintesa-sanpaolo                             0.990818        16.00   \nunicredit                                   1.000000        17.97   \nbanca-sella                                 0.542116        18.63   \ncredit-agricole                             0.538124        15.30   \n\n                           normalized_TIER1_ratio     ROE  normalized_ROE  \\\nmonte-dei-paschi-di-siena                0.354701  -8.097        0.000000   \nbanca-popolare-di-milano                 0.377137   8.011        0.772418   \nbnl                                      0.000000   8.762        0.808430   \ning-direct                               0.217949  12.757        1.000000   \nintesa-sanpaolo                          0.377137   9.717        0.854225   \nunicredit                                0.587607  11.479        0.938717   \nbanca-sella                              0.658120  12.374        0.981634   \ncredit-agricole                          0.302350   7.532        0.749449   \n\n                           cyber risk rating  normalized_cyber_risk_rating  \\\nmonte-dei-paschi-di-siena             750.00                        0.6000   \nbanca-popolare-di-milano              740.00                        0.4000   \nbnl                                   751.43                        0.6286   \ning-direct                            720.00                        0.0000   \nintesa-sanpaolo                       751.43                        0.6286   \nunicredit                             750.00                        0.6000   \nbanca-sella                           770.00                        1.0000   \ncredit-agricole                       751.43                        0.6286   \n\n                           Taeg  normalized_taeg  \nmonte-dei-paschi-di-siena  5.06         0.000000  \nbanca-popolare-di-milano   4.30         0.644068  \nbnl                        4.41         0.550847  \ning-direct                 4.54         0.440678  \nintesa-sanpaolo            4.26         0.677966  \nunicredit                  4.80         0.220339  \nbanca-sella                4.13         0.788136  \ncredit-agricole            4.14         0.779661  ",
      "text/html": "<div>\n<style scoped>\n    .dataframe tbody tr th:only-of-type {\n        vertical-align: middle;\n    }\n\n    .dataframe tbody tr th {\n        vertical-align: top;\n    }\n\n    .dataframe thead th {\n        text-align: right;\n    }\n</style>\n<table border=\"1\" class=\"dataframe\">\n  <thead>\n    <tr style=\"text-align: right;\">\n      <th></th>\n      <th>home_banking</th>\n      <th>support</th>\n      <th>local_presence</th>\n      <th>mean_score</th>\n      <th>normalized_home_banking</th>\n      <th>normalized_support</th>\n      <th>normalized_local_presence</th>\n      <th>TIER1 ratio</th>\n      <th>normalized_TIER1_ratio</th>\n      <th>ROE</th>\n      <th>normalized_ROE</th>\n      <th>cyber risk rating</th>\n      <th>normalized_cyber_risk_rating</th>\n      <th>Taeg</th>\n      <th>normalized_taeg</th>\n    </tr>\n  </thead>\n  <tbody>\n    <tr>\n      <th>monte-dei-paschi-di-siena</th>\n      <td>31.54</td>\n      <td>23.59</td>\n      <td>31.03</td>\n      <td>28.720000</td>\n      <td>0.306080</td>\n      <td>0.183444</td>\n      <td>0.150100</td>\n      <td>15.79</td>\n      <td>0.354701</td>\n      <td>-8.097</td>\n      <td>0.000000</td>\n      <td>750.00</td>\n      <td>0.6000</td>\n      <td>5.06</td>\n      <td>0.000000</td>\n    </tr>\n    <tr>\n      <th>banca-popolare-di-milano</th>\n      <td>43.41</td>\n      <td>32.68</td>\n      <td>35.61</td>\n      <td>37.233333</td>\n      <td>0.803774</td>\n      <td>0.647931</td>\n      <td>0.332934</td>\n      <td>16.00</td>\n      <td>0.377137</td>\n      <td>8.011</td>\n      <td>0.772418</td>\n      <td>740.00</td>\n      <td>0.4000</td>\n      <td>4.30</td>\n      <td>0.644068</td>\n    </tr>\n    <tr>\n      <th>bnl</th>\n      <td>24.24</td>\n      <td>20.00</td>\n      <td>27.27</td>\n      <td>23.836667</td>\n      <td>0.000000</td>\n      <td>0.000000</td>\n      <td>0.000000</td>\n      <td>12.47</td>\n      <td>0.000000</td>\n      <td>8.762</td>\n      <td>0.808430</td>\n      <td>751.43</td>\n      <td>0.6286</td>\n      <td>4.41</td>\n      <td>0.550847</td>\n    </tr>\n    <tr>\n      <th>ing-direct</th>\n      <td>47.94</td>\n      <td>38.29</td>\n      <td>30.60</td>\n      <td>38.943333</td>\n      <td>0.993711</td>\n      <td>0.934594</td>\n      <td>0.132934</td>\n      <td>14.51</td>\n      <td>0.217949</td>\n      <td>12.757</td>\n      <td>1.000000</td>\n      <td>720.00</td>\n      <td>0.0000</td>\n      <td>4.54</td>\n      <td>0.440678</td>\n    </tr>\n    <tr>\n      <th>intesa-sanpaolo</th>\n      <td>39.39</td>\n      <td>38.28</td>\n      <td>52.09</td>\n      <td>43.253333</td>\n      <td>0.635220</td>\n      <td>0.934083</td>\n      <td>0.990818</td>\n      <td>16.00</td>\n      <td>0.377137</td>\n      <td>9.717</td>\n      <td>0.854225</td>\n      <td>751.43</td>\n      <td>0.6286</td>\n      <td>4.26</td>\n      <td>0.677966</td>\n    </tr>\n    <tr>\n      <th>unicredit</th>\n      <td>45.31</td>\n      <td>35.55</td>\n      <td>52.32</td>\n      <td>44.393333</td>\n      <td>0.883438</td>\n      <td>0.794584</td>\n      <td>1.000000</td>\n      <td>17.97</td>\n      <td>0.587607</td>\n      <td>11.479</td>\n      <td>0.938717</td>\n      <td>750.00</td>\n      <td>0.6000</td>\n      <td>4.80</td>\n      <td>0.220339</td>\n    </tr>\n    <tr>\n      <th>banca-sella</th>\n      <td>48.09</td>\n      <td>39.57</td>\n      <td>40.85</td>\n      <td>42.836667</td>\n      <td>1.000000</td>\n      <td>1.000000</td>\n      <td>0.542116</td>\n      <td>18.63</td>\n      <td>0.658120</td>\n      <td>12.374</td>\n      <td>0.981634</td>\n      <td>770.00</td>\n      <td>1.0000</td>\n      <td>4.13</td>\n      <td>0.788136</td>\n    </tr>\n    <tr>\n      <th>credit-agricole</th>\n      <td>33.02</td>\n      <td>28.30</td>\n      <td>40.75</td>\n      <td>34.023333</td>\n      <td>0.368134</td>\n      <td>0.424119</td>\n      <td>0.538124</td>\n      <td>15.30</td>\n      <td>0.302350</td>\n      <td>7.532</td>\n      <td>0.749449</td>\n      <td>751.43</td>\n      <td>0.6286</td>\n      <td>4.14</td>\n      <td>0.779661</td>\n    </tr>\n  </tbody>\n</table>\n</div>"
     },
     "execution_count": 55,
     "metadata": {},
     "output_type": "execute_result"
    }
   ],
   "source": [
    "all_scores_mortgage_1978"
   ],
   "metadata": {
    "collapsed": false,
    "ExecuteTime": {
     "end_time": "2023-08-05T14:28:17.155248Z",
     "start_time": "2023-08-05T14:28:17.128169Z"
    }
   }
  },
  {
   "cell_type": "code",
   "execution_count": 56,
   "outputs": [
    {
     "data": {
      "text/plain": "                           home_banking  support  local_presence  mean_score  \\\nmonte-dei-paschi-di-siena         31.54    23.59           31.03   28.720000   \nbanca-popolare-di-milano          43.41    32.68           35.61   37.233333   \nbnl                               24.24    20.00           27.27   23.836667   \ning-direct                        47.94    38.29           30.60   38.943333   \nintesa-sanpaolo                   39.39    38.28           52.09   43.253333   \nunicredit                         45.31    35.55           52.32   44.393333   \nbanca-sella                       48.09    39.57           40.85   42.836667   \ncredit-agricole                   33.02    28.30           40.75   34.023333   \n\n                           normalized_home_banking  normalized_support  \\\nmonte-dei-paschi-di-siena                 0.306080            0.183444   \nbanca-popolare-di-milano                  0.803774            0.647931   \nbnl                                       0.000000            0.000000   \ning-direct                                0.993711            0.934594   \nintesa-sanpaolo                           0.635220            0.934083   \nunicredit                                 0.883438            0.794584   \nbanca-sella                               1.000000            1.000000   \ncredit-agricole                           0.368134            0.424119   \n\n                           normalized_local_presence  TIER1 ratio  \\\nmonte-dei-paschi-di-siena                   0.150100        15.79   \nbanca-popolare-di-milano                    0.332934        16.00   \nbnl                                         0.000000        12.47   \ning-direct                                  0.132934        14.51   \nintesa-sanpaolo                             0.990818        16.00   \nunicredit                                   1.000000        17.97   \nbanca-sella                                 0.542116        18.63   \ncredit-agricole                             0.538124        15.30   \n\n                           normalized_TIER1_ratio     ROE  normalized_ROE  \\\nmonte-dei-paschi-di-siena                0.354701  -8.097        0.000000   \nbanca-popolare-di-milano                 0.377137   8.011        0.772418   \nbnl                                      0.000000   8.762        0.808430   \ning-direct                               0.217949  12.757        1.000000   \nintesa-sanpaolo                          0.377137   9.717        0.854225   \nunicredit                                0.587607  11.479        0.938717   \nbanca-sella                              0.658120  12.374        0.981634   \ncredit-agricole                          0.302350   7.532        0.749449   \n\n                           cyber risk rating  normalized_cyber_risk_rating  \\\nmonte-dei-paschi-di-siena             750.00                        0.6000   \nbanca-popolare-di-milano              740.00                        0.4000   \nbnl                                   751.43                        0.6286   \ning-direct                            720.00                        0.0000   \nintesa-sanpaolo                       751.43                        0.6286   \nunicredit                             750.00                        0.6000   \nbanca-sella                           770.00                        1.0000   \ncredit-agricole                       751.43                        0.6286   \n\n                           Taeg  normalized_taeg  \nmonte-dei-paschi-di-siena  4.68         0.867021  \nbanca-popolare-di-milano   4.67         0.869681  \nbnl                        5.07         0.763298  \ning-direct                 4.54         0.904255  \nintesa-sanpaolo            5.10         0.755319  \nunicredit                  5.22         0.723404  \nbanca-sella                4.65         0.875000  \ncredit-agricole            4.64         0.877660  ",
      "text/html": "<div>\n<style scoped>\n    .dataframe tbody tr th:only-of-type {\n        vertical-align: middle;\n    }\n\n    .dataframe tbody tr th {\n        vertical-align: top;\n    }\n\n    .dataframe thead th {\n        text-align: right;\n    }\n</style>\n<table border=\"1\" class=\"dataframe\">\n  <thead>\n    <tr style=\"text-align: right;\">\n      <th></th>\n      <th>home_banking</th>\n      <th>support</th>\n      <th>local_presence</th>\n      <th>mean_score</th>\n      <th>normalized_home_banking</th>\n      <th>normalized_support</th>\n      <th>normalized_local_presence</th>\n      <th>TIER1 ratio</th>\n      <th>normalized_TIER1_ratio</th>\n      <th>ROE</th>\n      <th>normalized_ROE</th>\n      <th>cyber risk rating</th>\n      <th>normalized_cyber_risk_rating</th>\n      <th>Taeg</th>\n      <th>normalized_taeg</th>\n    </tr>\n  </thead>\n  <tbody>\n    <tr>\n      <th>monte-dei-paschi-di-siena</th>\n      <td>31.54</td>\n      <td>23.59</td>\n      <td>31.03</td>\n      <td>28.720000</td>\n      <td>0.306080</td>\n      <td>0.183444</td>\n      <td>0.150100</td>\n      <td>15.79</td>\n      <td>0.354701</td>\n      <td>-8.097</td>\n      <td>0.000000</td>\n      <td>750.00</td>\n      <td>0.6000</td>\n      <td>4.68</td>\n      <td>0.867021</td>\n    </tr>\n    <tr>\n      <th>banca-popolare-di-milano</th>\n      <td>43.41</td>\n      <td>32.68</td>\n      <td>35.61</td>\n      <td>37.233333</td>\n      <td>0.803774</td>\n      <td>0.647931</td>\n      <td>0.332934</td>\n      <td>16.00</td>\n      <td>0.377137</td>\n      <td>8.011</td>\n      <td>0.772418</td>\n      <td>740.00</td>\n      <td>0.4000</td>\n      <td>4.67</td>\n      <td>0.869681</td>\n    </tr>\n    <tr>\n      <th>bnl</th>\n      <td>24.24</td>\n      <td>20.00</td>\n      <td>27.27</td>\n      <td>23.836667</td>\n      <td>0.000000</td>\n      <td>0.000000</td>\n      <td>0.000000</td>\n      <td>12.47</td>\n      <td>0.000000</td>\n      <td>8.762</td>\n      <td>0.808430</td>\n      <td>751.43</td>\n      <td>0.6286</td>\n      <td>5.07</td>\n      <td>0.763298</td>\n    </tr>\n    <tr>\n      <th>ing-direct</th>\n      <td>47.94</td>\n      <td>38.29</td>\n      <td>30.60</td>\n      <td>38.943333</td>\n      <td>0.993711</td>\n      <td>0.934594</td>\n      <td>0.132934</td>\n      <td>14.51</td>\n      <td>0.217949</td>\n      <td>12.757</td>\n      <td>1.000000</td>\n      <td>720.00</td>\n      <td>0.0000</td>\n      <td>4.54</td>\n      <td>0.904255</td>\n    </tr>\n    <tr>\n      <th>intesa-sanpaolo</th>\n      <td>39.39</td>\n      <td>38.28</td>\n      <td>52.09</td>\n      <td>43.253333</td>\n      <td>0.635220</td>\n      <td>0.934083</td>\n      <td>0.990818</td>\n      <td>16.00</td>\n      <td>0.377137</td>\n      <td>9.717</td>\n      <td>0.854225</td>\n      <td>751.43</td>\n      <td>0.6286</td>\n      <td>5.10</td>\n      <td>0.755319</td>\n    </tr>\n    <tr>\n      <th>unicredit</th>\n      <td>45.31</td>\n      <td>35.55</td>\n      <td>52.32</td>\n      <td>44.393333</td>\n      <td>0.883438</td>\n      <td>0.794584</td>\n      <td>1.000000</td>\n      <td>17.97</td>\n      <td>0.587607</td>\n      <td>11.479</td>\n      <td>0.938717</td>\n      <td>750.00</td>\n      <td>0.6000</td>\n      <td>5.22</td>\n      <td>0.723404</td>\n    </tr>\n    <tr>\n      <th>banca-sella</th>\n      <td>48.09</td>\n      <td>39.57</td>\n      <td>40.85</td>\n      <td>42.836667</td>\n      <td>1.000000</td>\n      <td>1.000000</td>\n      <td>0.542116</td>\n      <td>18.63</td>\n      <td>0.658120</td>\n      <td>12.374</td>\n      <td>0.981634</td>\n      <td>770.00</td>\n      <td>1.0000</td>\n      <td>4.65</td>\n      <td>0.875000</td>\n    </tr>\n    <tr>\n      <th>credit-agricole</th>\n      <td>33.02</td>\n      <td>28.30</td>\n      <td>40.75</td>\n      <td>34.023333</td>\n      <td>0.368134</td>\n      <td>0.424119</td>\n      <td>0.538124</td>\n      <td>15.30</td>\n      <td>0.302350</td>\n      <td>7.532</td>\n      <td>0.749449</td>\n      <td>751.43</td>\n      <td>0.6286</td>\n      <td>4.64</td>\n      <td>0.877660</td>\n    </tr>\n  </tbody>\n</table>\n</div>"
     },
     "execution_count": 56,
     "metadata": {},
     "output_type": "execute_result"
    }
   ],
   "source": [
    "all_scores_mortgage_1988"
   ],
   "metadata": {
    "collapsed": false,
    "ExecuteTime": {
     "end_time": "2023-08-05T14:28:17.170042Z",
     "start_time": "2023-08-05T14:28:17.135073Z"
    }
   }
  },
  {
   "cell_type": "code",
   "execution_count": 57,
   "outputs": [
    {
     "data": {
      "text/plain": "                           home_banking  support  local_presence  mean_score  \\\nmonte-dei-paschi-di-siena         31.54    23.59           31.03   28.720000   \nbanca-popolare-di-milano          43.41    32.68           35.61   37.233333   \nbnl                               24.24    20.00           27.27   23.836667   \ning-direct                        47.94    38.29           30.60   38.943333   \nintesa-sanpaolo                   39.39    38.28           52.09   43.253333   \nunicredit                         45.31    35.55           52.32   44.393333   \n\n                           normalized_home_banking  normalized_support  \\\nmonte-dei-paschi-di-siena                 0.306080            0.183444   \nbanca-popolare-di-milano                  0.803774            0.647931   \nbnl                                       0.000000            0.000000   \ning-direct                                0.993711            0.934594   \nintesa-sanpaolo                           0.635220            0.934083   \nunicredit                                 0.883438            0.794584   \n\n                           normalized_local_presence  TIER1 ratio  \\\nmonte-dei-paschi-di-siena                   0.150100        15.79   \nbanca-popolare-di-milano                    0.332934        16.00   \nbnl                                         0.000000        12.47   \ning-direct                                  0.132934        14.51   \nintesa-sanpaolo                             0.990818        16.00   \nunicredit                                   1.000000        17.97   \n\n                           normalized_TIER1_ratio     ROE  normalized_ROE  \\\nmonte-dei-paschi-di-siena                0.354701  -8.097        0.000000   \nbanca-popolare-di-milano                 0.377137   8.011        0.772418   \nbnl                                      0.000000   8.762        0.808430   \ning-direct                               0.217949  12.757        1.000000   \nintesa-sanpaolo                          0.377137   9.717        0.854225   \nunicredit                                0.587607  11.479        0.938717   \n\n                           cyber risk rating  normalized_cyber_risk_rating  \\\nmonte-dei-paschi-di-siena             750.00                        0.6000   \nbanca-popolare-di-milano              740.00                        0.4000   \nbnl                                   751.43                        0.6286   \ning-direct                            720.00                        0.0000   \nintesa-sanpaolo                       751.43                        0.6286   \nunicredit                             750.00                        0.6000   \n\n                           Taeg  normalized_taeg  \nmonte-dei-paschi-di-siena  5.15         0.822086  \nbanca-popolare-di-milano   4.66         0.972393  \nbnl                        5.30         0.776074  \ning-direct                 4.60         0.990798  \nintesa-sanpaolo            5.25         0.791411  \nunicredit                  5.39         0.748466  ",
      "text/html": "<div>\n<style scoped>\n    .dataframe tbody tr th:only-of-type {\n        vertical-align: middle;\n    }\n\n    .dataframe tbody tr th {\n        vertical-align: top;\n    }\n\n    .dataframe thead th {\n        text-align: right;\n    }\n</style>\n<table border=\"1\" class=\"dataframe\">\n  <thead>\n    <tr style=\"text-align: right;\">\n      <th></th>\n      <th>home_banking</th>\n      <th>support</th>\n      <th>local_presence</th>\n      <th>mean_score</th>\n      <th>normalized_home_banking</th>\n      <th>normalized_support</th>\n      <th>normalized_local_presence</th>\n      <th>TIER1 ratio</th>\n      <th>normalized_TIER1_ratio</th>\n      <th>ROE</th>\n      <th>normalized_ROE</th>\n      <th>cyber risk rating</th>\n      <th>normalized_cyber_risk_rating</th>\n      <th>Taeg</th>\n      <th>normalized_taeg</th>\n    </tr>\n  </thead>\n  <tbody>\n    <tr>\n      <th>monte-dei-paschi-di-siena</th>\n      <td>31.54</td>\n      <td>23.59</td>\n      <td>31.03</td>\n      <td>28.720000</td>\n      <td>0.306080</td>\n      <td>0.183444</td>\n      <td>0.150100</td>\n      <td>15.79</td>\n      <td>0.354701</td>\n      <td>-8.097</td>\n      <td>0.000000</td>\n      <td>750.00</td>\n      <td>0.6000</td>\n      <td>5.15</td>\n      <td>0.822086</td>\n    </tr>\n    <tr>\n      <th>banca-popolare-di-milano</th>\n      <td>43.41</td>\n      <td>32.68</td>\n      <td>35.61</td>\n      <td>37.233333</td>\n      <td>0.803774</td>\n      <td>0.647931</td>\n      <td>0.332934</td>\n      <td>16.00</td>\n      <td>0.377137</td>\n      <td>8.011</td>\n      <td>0.772418</td>\n      <td>740.00</td>\n      <td>0.4000</td>\n      <td>4.66</td>\n      <td>0.972393</td>\n    </tr>\n    <tr>\n      <th>bnl</th>\n      <td>24.24</td>\n      <td>20.00</td>\n      <td>27.27</td>\n      <td>23.836667</td>\n      <td>0.000000</td>\n      <td>0.000000</td>\n      <td>0.000000</td>\n      <td>12.47</td>\n      <td>0.000000</td>\n      <td>8.762</td>\n      <td>0.808430</td>\n      <td>751.43</td>\n      <td>0.6286</td>\n      <td>5.30</td>\n      <td>0.776074</td>\n    </tr>\n    <tr>\n      <th>ing-direct</th>\n      <td>47.94</td>\n      <td>38.29</td>\n      <td>30.60</td>\n      <td>38.943333</td>\n      <td>0.993711</td>\n      <td>0.934594</td>\n      <td>0.132934</td>\n      <td>14.51</td>\n      <td>0.217949</td>\n      <td>12.757</td>\n      <td>1.000000</td>\n      <td>720.00</td>\n      <td>0.0000</td>\n      <td>4.60</td>\n      <td>0.990798</td>\n    </tr>\n    <tr>\n      <th>intesa-sanpaolo</th>\n      <td>39.39</td>\n      <td>38.28</td>\n      <td>52.09</td>\n      <td>43.253333</td>\n      <td>0.635220</td>\n      <td>0.934083</td>\n      <td>0.990818</td>\n      <td>16.00</td>\n      <td>0.377137</td>\n      <td>9.717</td>\n      <td>0.854225</td>\n      <td>751.43</td>\n      <td>0.6286</td>\n      <td>5.25</td>\n      <td>0.791411</td>\n    </tr>\n    <tr>\n      <th>unicredit</th>\n      <td>45.31</td>\n      <td>35.55</td>\n      <td>52.32</td>\n      <td>44.393333</td>\n      <td>0.883438</td>\n      <td>0.794584</td>\n      <td>1.000000</td>\n      <td>17.97</td>\n      <td>0.587607</td>\n      <td>11.479</td>\n      <td>0.938717</td>\n      <td>750.00</td>\n      <td>0.6000</td>\n      <td>5.39</td>\n      <td>0.748466</td>\n    </tr>\n  </tbody>\n</table>\n</div>"
     },
     "execution_count": 57,
     "metadata": {},
     "output_type": "execute_result"
    }
   ],
   "source": [
    "all_scores_mortgage_1998"
   ],
   "metadata": {
    "collapsed": false,
    "ExecuteTime": {
     "end_time": "2023-08-05T14:28:17.204387Z",
     "start_time": "2023-08-05T14:28:17.141695Z"
    }
   }
  },
  {
   "cell_type": "code",
   "execution_count": 58,
   "outputs": [],
   "source": [
    "def calculate_score(row, col_weight_mapping):\n",
    "    score = 0\n",
    "    for col, weight in col_weight_mapping.items():\n",
    "        val = row[col]\n",
    "        score += val * weight\n",
    "    finalized_score = round(score, 2)\n",
    "    return finalized_score"
   ],
   "metadata": {
    "collapsed": false,
    "ExecuteTime": {
     "end_time": "2023-08-05T14:28:17.204602Z",
     "start_time": "2023-08-05T14:28:17.144565Z"
    }
   }
  },
  {
   "cell_type": "code",
   "execution_count": 59,
   "outputs": [],
   "source": [
    "var_weight_mapping = {\n",
    "    'normalized_home_banking': 0.15,\n",
    "    'normalized_support': 0.15,\n",
    "    'normalized_local_presence': 0.05,\n",
    "    'normalized_TIER1_ratio': 0.15,\n",
    "    'normalized_ROE': 0.10,\n",
    "    'normalized_cyber_risk_rating': 0.05,\n",
    "    'normalized_taeg': 0.35\n",
    "}"
   ],
   "metadata": {
    "collapsed": false,
    "ExecuteTime": {
     "end_time": "2023-08-05T14:28:17.204637Z",
     "start_time": "2023-08-05T14:28:17.146877Z"
    }
   }
  },
  {
   "cell_type": "code",
   "execution_count": 60,
   "outputs": [],
   "source": [
    "all_scores_mortgage_1968['final_score'] = all_scores_mortgage_1968.apply(calculate_score, args=(var_weight_mapping,), axis=1)\n",
    "all_scores_mortgage_1978['final_score'] = all_scores_mortgage_1978.apply(calculate_score, args=(var_weight_mapping,), axis=1)\n",
    "all_scores_mortgage_1988['final_score'] = all_scores_mortgage_1978.apply(calculate_score, args=(var_weight_mapping,), axis=1)\n",
    "all_scores_mortgage_1998['final_score'] = all_scores_mortgage_1978.apply(calculate_score, args=(var_weight_mapping,), axis=1)"
   ],
   "metadata": {
    "collapsed": false,
    "ExecuteTime": {
     "end_time": "2023-08-05T14:28:17.204669Z",
     "start_time": "2023-08-05T14:28:17.149583Z"
    }
   }
  },
  {
   "cell_type": "code",
   "execution_count": 61,
   "outputs": [
    {
     "data": {
      "text/plain": "                           home_banking  support  local_presence  mean_score  \\\nbanca-sella                       48.09    39.57           40.85   42.836667   \nintesa-sanpaolo                   39.39    38.28           52.09   43.253333   \nbanca-popolare-di-milano          43.41    32.68           35.61   37.233333   \nunicredit                         45.31    35.55           52.32   44.393333   \ning-direct                        47.94    38.29           30.60   38.943333   \ncredit-agricole                   33.02    28.30           40.75   34.023333   \nbnl                               24.24    20.00           27.27   23.836667   \nmonte-dei-paschi-di-siena         31.54    23.59           31.03   28.720000   \n\n                           normalized_home_banking  normalized_support  \\\nbanca-sella                               1.000000            1.000000   \nintesa-sanpaolo                           0.635220            0.934083   \nbanca-popolare-di-milano                  0.803774            0.647931   \nunicredit                                 0.883438            0.794584   \ning-direct                                0.993711            0.934594   \ncredit-agricole                           0.368134            0.424119   \nbnl                                       0.000000            0.000000   \nmonte-dei-paschi-di-siena                 0.306080            0.183444   \n\n                           normalized_local_presence  TIER1 ratio  \\\nbanca-sella                                 0.542116        18.63   \nintesa-sanpaolo                             0.990818        16.00   \nbanca-popolare-di-milano                    0.332934        16.00   \nunicredit                                   1.000000        17.97   \ning-direct                                  0.132934        14.51   \ncredit-agricole                             0.538124        15.30   \nbnl                                         0.000000        12.47   \nmonte-dei-paschi-di-siena                   0.150100        15.79   \n\n                           normalized_TIER1_ratio     ROE  normalized_ROE  \\\nbanca-sella                              0.658120  12.374        0.981634   \nintesa-sanpaolo                          0.377137   9.717        0.854225   \nbanca-popolare-di-milano                 0.377137   8.011        0.772418   \nunicredit                                0.587607  11.479        0.938717   \ning-direct                               0.217949  12.757        1.000000   \ncredit-agricole                          0.302350   7.532        0.749449   \nbnl                                      0.000000   8.762        0.808430   \nmonte-dei-paschi-di-siena                0.354701  -8.097        0.000000   \n\n                           cyber risk rating  normalized_cyber_risk_rating  \\\nbanca-sella                           770.00                        1.0000   \nintesa-sanpaolo                       751.43                        0.6286   \nbanca-popolare-di-milano              740.00                        0.4000   \nunicredit                             750.00                        0.6000   \ning-direct                            720.00                        0.0000   \ncredit-agricole                       751.43                        0.6286   \nbnl                                   751.43                        0.6286   \nmonte-dei-paschi-di-siena             750.00                        0.6000   \n\n                           Taeg  normalized_taeg  final_score  \nbanca-sella                4.13         0.788136         0.85  \nintesa-sanpaolo            4.26         0.677966         0.70  \nbanca-popolare-di-milano   4.30         0.644068         0.61  \nunicredit                  4.80         0.220339         0.59  \ning-direct                 4.54         0.440678         0.58  \ncredit-agricole            4.14         0.779661         0.57  \nbnl                        4.41         0.550847         0.31  \nmonte-dei-paschi-di-siena  5.06         0.000000         0.16  ",
      "text/html": "<div>\n<style scoped>\n    .dataframe tbody tr th:only-of-type {\n        vertical-align: middle;\n    }\n\n    .dataframe tbody tr th {\n        vertical-align: top;\n    }\n\n    .dataframe thead th {\n        text-align: right;\n    }\n</style>\n<table border=\"1\" class=\"dataframe\">\n  <thead>\n    <tr style=\"text-align: right;\">\n      <th></th>\n      <th>home_banking</th>\n      <th>support</th>\n      <th>local_presence</th>\n      <th>mean_score</th>\n      <th>normalized_home_banking</th>\n      <th>normalized_support</th>\n      <th>normalized_local_presence</th>\n      <th>TIER1 ratio</th>\n      <th>normalized_TIER1_ratio</th>\n      <th>ROE</th>\n      <th>normalized_ROE</th>\n      <th>cyber risk rating</th>\n      <th>normalized_cyber_risk_rating</th>\n      <th>Taeg</th>\n      <th>normalized_taeg</th>\n      <th>final_score</th>\n    </tr>\n  </thead>\n  <tbody>\n    <tr>\n      <th>banca-sella</th>\n      <td>48.09</td>\n      <td>39.57</td>\n      <td>40.85</td>\n      <td>42.836667</td>\n      <td>1.000000</td>\n      <td>1.000000</td>\n      <td>0.542116</td>\n      <td>18.63</td>\n      <td>0.658120</td>\n      <td>12.374</td>\n      <td>0.981634</td>\n      <td>770.00</td>\n      <td>1.0000</td>\n      <td>4.13</td>\n      <td>0.788136</td>\n      <td>0.85</td>\n    </tr>\n    <tr>\n      <th>intesa-sanpaolo</th>\n      <td>39.39</td>\n      <td>38.28</td>\n      <td>52.09</td>\n      <td>43.253333</td>\n      <td>0.635220</td>\n      <td>0.934083</td>\n      <td>0.990818</td>\n      <td>16.00</td>\n      <td>0.377137</td>\n      <td>9.717</td>\n      <td>0.854225</td>\n      <td>751.43</td>\n      <td>0.6286</td>\n      <td>4.26</td>\n      <td>0.677966</td>\n      <td>0.70</td>\n    </tr>\n    <tr>\n      <th>banca-popolare-di-milano</th>\n      <td>43.41</td>\n      <td>32.68</td>\n      <td>35.61</td>\n      <td>37.233333</td>\n      <td>0.803774</td>\n      <td>0.647931</td>\n      <td>0.332934</td>\n      <td>16.00</td>\n      <td>0.377137</td>\n      <td>8.011</td>\n      <td>0.772418</td>\n      <td>740.00</td>\n      <td>0.4000</td>\n      <td>4.30</td>\n      <td>0.644068</td>\n      <td>0.61</td>\n    </tr>\n    <tr>\n      <th>unicredit</th>\n      <td>45.31</td>\n      <td>35.55</td>\n      <td>52.32</td>\n      <td>44.393333</td>\n      <td>0.883438</td>\n      <td>0.794584</td>\n      <td>1.000000</td>\n      <td>17.97</td>\n      <td>0.587607</td>\n      <td>11.479</td>\n      <td>0.938717</td>\n      <td>750.00</td>\n      <td>0.6000</td>\n      <td>4.80</td>\n      <td>0.220339</td>\n      <td>0.59</td>\n    </tr>\n    <tr>\n      <th>ing-direct</th>\n      <td>47.94</td>\n      <td>38.29</td>\n      <td>30.60</td>\n      <td>38.943333</td>\n      <td>0.993711</td>\n      <td>0.934594</td>\n      <td>0.132934</td>\n      <td>14.51</td>\n      <td>0.217949</td>\n      <td>12.757</td>\n      <td>1.000000</td>\n      <td>720.00</td>\n      <td>0.0000</td>\n      <td>4.54</td>\n      <td>0.440678</td>\n      <td>0.58</td>\n    </tr>\n    <tr>\n      <th>credit-agricole</th>\n      <td>33.02</td>\n      <td>28.30</td>\n      <td>40.75</td>\n      <td>34.023333</td>\n      <td>0.368134</td>\n      <td>0.424119</td>\n      <td>0.538124</td>\n      <td>15.30</td>\n      <td>0.302350</td>\n      <td>7.532</td>\n      <td>0.749449</td>\n      <td>751.43</td>\n      <td>0.6286</td>\n      <td>4.14</td>\n      <td>0.779661</td>\n      <td>0.57</td>\n    </tr>\n    <tr>\n      <th>bnl</th>\n      <td>24.24</td>\n      <td>20.00</td>\n      <td>27.27</td>\n      <td>23.836667</td>\n      <td>0.000000</td>\n      <td>0.000000</td>\n      <td>0.000000</td>\n      <td>12.47</td>\n      <td>0.000000</td>\n      <td>8.762</td>\n      <td>0.808430</td>\n      <td>751.43</td>\n      <td>0.6286</td>\n      <td>4.41</td>\n      <td>0.550847</td>\n      <td>0.31</td>\n    </tr>\n    <tr>\n      <th>monte-dei-paschi-di-siena</th>\n      <td>31.54</td>\n      <td>23.59</td>\n      <td>31.03</td>\n      <td>28.720000</td>\n      <td>0.306080</td>\n      <td>0.183444</td>\n      <td>0.150100</td>\n      <td>15.79</td>\n      <td>0.354701</td>\n      <td>-8.097</td>\n      <td>0.000000</td>\n      <td>750.00</td>\n      <td>0.6000</td>\n      <td>5.06</td>\n      <td>0.000000</td>\n      <td>0.16</td>\n    </tr>\n  </tbody>\n</table>\n</div>"
     },
     "execution_count": 61,
     "metadata": {},
     "output_type": "execute_result"
    }
   ],
   "source": [
    "all_scores_mortgage_1968.sort_values(by='final_score', ascending=False)"
   ],
   "metadata": {
    "collapsed": false,
    "ExecuteTime": {
     "end_time": "2023-08-05T14:28:17.222303Z",
     "start_time": "2023-08-05T14:28:17.158449Z"
    }
   }
  },
  {
   "cell_type": "code",
   "execution_count": 62,
   "outputs": [],
   "source": [
    "all_scores_mortgage_1968 = all_scores_mortgage_1968.reset_index().rename(columns={'index': 'bank'})\n",
    "all_scores_mortgage_1978 = all_scores_mortgage_1978.reset_index().rename(columns={'index': 'bank'})\n",
    "all_scores_mortgage_1988 = all_scores_mortgage_1988.reset_index().rename(columns={'index': 'bank'})\n",
    "all_scores_mortgage_1998 = all_scores_mortgage_1998.reset_index().rename(columns={'index': 'bank'})"
   ],
   "metadata": {
    "collapsed": false,
    "ExecuteTime": {
     "end_time": "2023-08-05T14:28:17.225499Z",
     "start_time": "2023-08-05T14:28:17.162006Z"
    }
   }
  },
  {
   "cell_type": "code",
   "execution_count": 63,
   "outputs": [
    {
     "data": {
      "text/plain": "                        bank  home_banking  support  local_presence  \\\n0  monte-dei-paschi-di-siena         31.54    23.59           31.03   \n1   banca-popolare-di-milano         43.41    32.68           35.61   \n2                        bnl         24.24    20.00           27.27   \n3                 ing-direct         47.94    38.29           30.60   \n4            intesa-sanpaolo         39.39    38.28           52.09   \n5                  unicredit         45.31    35.55           52.32   \n\n   mean_score  normalized_home_banking  normalized_support  \\\n0   28.720000                 0.306080            0.183444   \n1   37.233333                 0.803774            0.647931   \n2   23.836667                 0.000000            0.000000   \n3   38.943333                 0.993711            0.934594   \n4   43.253333                 0.635220            0.934083   \n5   44.393333                 0.883438            0.794584   \n\n   normalized_local_presence  TIER1 ratio  normalized_TIER1_ratio     ROE  \\\n0                   0.150100        15.79                0.354701  -8.097   \n1                   0.332934        16.00                0.377137   8.011   \n2                   0.000000        12.47                0.000000   8.762   \n3                   0.132934        14.51                0.217949  12.757   \n4                   0.990818        16.00                0.377137   9.717   \n5                   1.000000        17.97                0.587607  11.479   \n\n   normalized_ROE  cyber risk rating  normalized_cyber_risk_rating  Taeg  \\\n0        0.000000             750.00                        0.6000  5.15   \n1        0.772418             740.00                        0.4000  4.66   \n2        0.808430             751.43                        0.6286  5.30   \n3        1.000000             720.00                        0.0000  4.60   \n4        0.854225             751.43                        0.6286  5.25   \n5        0.938717             750.00                        0.6000  5.39   \n\n   normalized_taeg  final_score  \n0         0.822086         0.16  \n1         0.972393         0.61  \n2         0.776074         0.31  \n3         0.990798         0.58  \n4         0.791411         0.70  \n5         0.748466         0.59  ",
      "text/html": "<div>\n<style scoped>\n    .dataframe tbody tr th:only-of-type {\n        vertical-align: middle;\n    }\n\n    .dataframe tbody tr th {\n        vertical-align: top;\n    }\n\n    .dataframe thead th {\n        text-align: right;\n    }\n</style>\n<table border=\"1\" class=\"dataframe\">\n  <thead>\n    <tr style=\"text-align: right;\">\n      <th></th>\n      <th>bank</th>\n      <th>home_banking</th>\n      <th>support</th>\n      <th>local_presence</th>\n      <th>mean_score</th>\n      <th>normalized_home_banking</th>\n      <th>normalized_support</th>\n      <th>normalized_local_presence</th>\n      <th>TIER1 ratio</th>\n      <th>normalized_TIER1_ratio</th>\n      <th>ROE</th>\n      <th>normalized_ROE</th>\n      <th>cyber risk rating</th>\n      <th>normalized_cyber_risk_rating</th>\n      <th>Taeg</th>\n      <th>normalized_taeg</th>\n      <th>final_score</th>\n    </tr>\n  </thead>\n  <tbody>\n    <tr>\n      <th>0</th>\n      <td>monte-dei-paschi-di-siena</td>\n      <td>31.54</td>\n      <td>23.59</td>\n      <td>31.03</td>\n      <td>28.720000</td>\n      <td>0.306080</td>\n      <td>0.183444</td>\n      <td>0.150100</td>\n      <td>15.79</td>\n      <td>0.354701</td>\n      <td>-8.097</td>\n      <td>0.000000</td>\n      <td>750.00</td>\n      <td>0.6000</td>\n      <td>5.15</td>\n      <td>0.822086</td>\n      <td>0.16</td>\n    </tr>\n    <tr>\n      <th>1</th>\n      <td>banca-popolare-di-milano</td>\n      <td>43.41</td>\n      <td>32.68</td>\n      <td>35.61</td>\n      <td>37.233333</td>\n      <td>0.803774</td>\n      <td>0.647931</td>\n      <td>0.332934</td>\n      <td>16.00</td>\n      <td>0.377137</td>\n      <td>8.011</td>\n      <td>0.772418</td>\n      <td>740.00</td>\n      <td>0.4000</td>\n      <td>4.66</td>\n      <td>0.972393</td>\n      <td>0.61</td>\n    </tr>\n    <tr>\n      <th>2</th>\n      <td>bnl</td>\n      <td>24.24</td>\n      <td>20.00</td>\n      <td>27.27</td>\n      <td>23.836667</td>\n      <td>0.000000</td>\n      <td>0.000000</td>\n      <td>0.000000</td>\n      <td>12.47</td>\n      <td>0.000000</td>\n      <td>8.762</td>\n      <td>0.808430</td>\n      <td>751.43</td>\n      <td>0.6286</td>\n      <td>5.30</td>\n      <td>0.776074</td>\n      <td>0.31</td>\n    </tr>\n    <tr>\n      <th>3</th>\n      <td>ing-direct</td>\n      <td>47.94</td>\n      <td>38.29</td>\n      <td>30.60</td>\n      <td>38.943333</td>\n      <td>0.993711</td>\n      <td>0.934594</td>\n      <td>0.132934</td>\n      <td>14.51</td>\n      <td>0.217949</td>\n      <td>12.757</td>\n      <td>1.000000</td>\n      <td>720.00</td>\n      <td>0.0000</td>\n      <td>4.60</td>\n      <td>0.990798</td>\n      <td>0.58</td>\n    </tr>\n    <tr>\n      <th>4</th>\n      <td>intesa-sanpaolo</td>\n      <td>39.39</td>\n      <td>38.28</td>\n      <td>52.09</td>\n      <td>43.253333</td>\n      <td>0.635220</td>\n      <td>0.934083</td>\n      <td>0.990818</td>\n      <td>16.00</td>\n      <td>0.377137</td>\n      <td>9.717</td>\n      <td>0.854225</td>\n      <td>751.43</td>\n      <td>0.6286</td>\n      <td>5.25</td>\n      <td>0.791411</td>\n      <td>0.70</td>\n    </tr>\n    <tr>\n      <th>5</th>\n      <td>unicredit</td>\n      <td>45.31</td>\n      <td>35.55</td>\n      <td>52.32</td>\n      <td>44.393333</td>\n      <td>0.883438</td>\n      <td>0.794584</td>\n      <td>1.000000</td>\n      <td>17.97</td>\n      <td>0.587607</td>\n      <td>11.479</td>\n      <td>0.938717</td>\n      <td>750.00</td>\n      <td>0.6000</td>\n      <td>5.39</td>\n      <td>0.748466</td>\n      <td>0.59</td>\n    </tr>\n  </tbody>\n</table>\n</div>"
     },
     "execution_count": 63,
     "metadata": {},
     "output_type": "execute_result"
    }
   ],
   "source": [
    "all_scores_mortgage_1998"
   ],
   "metadata": {
    "collapsed": false,
    "ExecuteTime": {
     "end_time": "2023-08-05T14:28:17.245666Z",
     "start_time": "2023-08-05T14:28:17.170643Z"
    }
   }
  },
  {
   "cell_type": "code",
   "execution_count": 64,
   "outputs": [],
   "source": [
    "with pd.ExcelWriter('data/final_scores.xlsx') as writer:\n",
    "    all_scores_mortgage_1968.sort_values(by='final_score', ascending=False).to_excel(writer, index=False, sheet_name='1968 Scores')\n",
    "    all_scores_mortgage_1978.sort_values(by='final_score', ascending=False).to_excel(writer, index=False, sheet_name='1978 Scores')\n",
    "    all_scores_mortgage_1988.sort_values(by='final_score', ascending=False).to_excel(writer, index=False, sheet_name='1988 Scores')\n",
    "    all_scores_mortgage_1998.sort_values(by='final_score', ascending=False).to_excel(writer, index=False, sheet_name='1998 Scores')"
   ],
   "metadata": {
    "collapsed": false,
    "ExecuteTime": {
     "end_time": "2023-08-05T14:28:17.339131Z",
     "start_time": "2023-08-05T14:28:17.173843Z"
    }
   }
  },
  {
   "cell_type": "code",
   "execution_count": 65,
   "outputs": [
    {
     "data": {
      "text/plain": "                        bank  final_score\n6                banca-sella         0.85\n4            intesa-sanpaolo         0.70\n1   banca-popolare-di-milano         0.61\n5                  unicredit         0.59\n3                 ing-direct         0.58\n7            credit-agricole         0.57\n2                        bnl         0.31\n0  monte-dei-paschi-di-siena         0.16",
      "text/html": "<div>\n<style scoped>\n    .dataframe tbody tr th:only-of-type {\n        vertical-align: middle;\n    }\n\n    .dataframe tbody tr th {\n        vertical-align: top;\n    }\n\n    .dataframe thead th {\n        text-align: right;\n    }\n</style>\n<table border=\"1\" class=\"dataframe\">\n  <thead>\n    <tr style=\"text-align: right;\">\n      <th></th>\n      <th>bank</th>\n      <th>final_score</th>\n    </tr>\n  </thead>\n  <tbody>\n    <tr>\n      <th>6</th>\n      <td>banca-sella</td>\n      <td>0.85</td>\n    </tr>\n    <tr>\n      <th>4</th>\n      <td>intesa-sanpaolo</td>\n      <td>0.70</td>\n    </tr>\n    <tr>\n      <th>1</th>\n      <td>banca-popolare-di-milano</td>\n      <td>0.61</td>\n    </tr>\n    <tr>\n      <th>5</th>\n      <td>unicredit</td>\n      <td>0.59</td>\n    </tr>\n    <tr>\n      <th>3</th>\n      <td>ing-direct</td>\n      <td>0.58</td>\n    </tr>\n    <tr>\n      <th>7</th>\n      <td>credit-agricole</td>\n      <td>0.57</td>\n    </tr>\n    <tr>\n      <th>2</th>\n      <td>bnl</td>\n      <td>0.31</td>\n    </tr>\n    <tr>\n      <th>0</th>\n      <td>monte-dei-paschi-di-siena</td>\n      <td>0.16</td>\n    </tr>\n  </tbody>\n</table>\n</div>"
     },
     "execution_count": 65,
     "metadata": {},
     "output_type": "execute_result"
    }
   ],
   "source": [
    "all_scores_mortgage_1968.loc[:, ['bank', 'final_score']].sort_values(by='final_score', ascending=False)"
   ],
   "metadata": {
    "collapsed": false,
    "ExecuteTime": {
     "end_time": "2023-08-05T14:28:17.339395Z",
     "start_time": "2023-08-05T14:28:17.263173Z"
    }
   }
  },
  {
   "cell_type": "code",
   "execution_count": 66,
   "outputs": [
    {
     "data": {
      "text/plain": "                        bank  final_score\n6                banca-sella         0.85\n4            intesa-sanpaolo         0.70\n1   banca-popolare-di-milano         0.61\n5                  unicredit         0.59\n3                 ing-direct         0.58\n7            credit-agricole         0.57\n2                        bnl         0.31\n0  monte-dei-paschi-di-siena         0.16",
      "text/html": "<div>\n<style scoped>\n    .dataframe tbody tr th:only-of-type {\n        vertical-align: middle;\n    }\n\n    .dataframe tbody tr th {\n        vertical-align: top;\n    }\n\n    .dataframe thead th {\n        text-align: right;\n    }\n</style>\n<table border=\"1\" class=\"dataframe\">\n  <thead>\n    <tr style=\"text-align: right;\">\n      <th></th>\n      <th>bank</th>\n      <th>final_score</th>\n    </tr>\n  </thead>\n  <tbody>\n    <tr>\n      <th>6</th>\n      <td>banca-sella</td>\n      <td>0.85</td>\n    </tr>\n    <tr>\n      <th>4</th>\n      <td>intesa-sanpaolo</td>\n      <td>0.70</td>\n    </tr>\n    <tr>\n      <th>1</th>\n      <td>banca-popolare-di-milano</td>\n      <td>0.61</td>\n    </tr>\n    <tr>\n      <th>5</th>\n      <td>unicredit</td>\n      <td>0.59</td>\n    </tr>\n    <tr>\n      <th>3</th>\n      <td>ing-direct</td>\n      <td>0.58</td>\n    </tr>\n    <tr>\n      <th>7</th>\n      <td>credit-agricole</td>\n      <td>0.57</td>\n    </tr>\n    <tr>\n      <th>2</th>\n      <td>bnl</td>\n      <td>0.31</td>\n    </tr>\n    <tr>\n      <th>0</th>\n      <td>monte-dei-paschi-di-siena</td>\n      <td>0.16</td>\n    </tr>\n  </tbody>\n</table>\n</div>"
     },
     "execution_count": 66,
     "metadata": {},
     "output_type": "execute_result"
    }
   ],
   "source": [
    "all_scores_mortgage_1978.loc[:, ['bank', 'final_score']].sort_values(by='final_score', ascending=False)"
   ],
   "metadata": {
    "collapsed": false,
    "ExecuteTime": {
     "end_time": "2023-08-05T14:28:17.339459Z",
     "start_time": "2023-08-05T14:28:17.267881Z"
    }
   }
  },
  {
   "cell_type": "code",
   "execution_count": 67,
   "outputs": [
    {
     "data": {
      "text/plain": "                        bank  final_score\n6                banca-sella         0.85\n4            intesa-sanpaolo         0.70\n1   banca-popolare-di-milano         0.61\n5                  unicredit         0.59\n3                 ing-direct         0.58\n7            credit-agricole         0.57\n2                        bnl         0.31\n0  monte-dei-paschi-di-siena         0.16",
      "text/html": "<div>\n<style scoped>\n    .dataframe tbody tr th:only-of-type {\n        vertical-align: middle;\n    }\n\n    .dataframe tbody tr th {\n        vertical-align: top;\n    }\n\n    .dataframe thead th {\n        text-align: right;\n    }\n</style>\n<table border=\"1\" class=\"dataframe\">\n  <thead>\n    <tr style=\"text-align: right;\">\n      <th></th>\n      <th>bank</th>\n      <th>final_score</th>\n    </tr>\n  </thead>\n  <tbody>\n    <tr>\n      <th>6</th>\n      <td>banca-sella</td>\n      <td>0.85</td>\n    </tr>\n    <tr>\n      <th>4</th>\n      <td>intesa-sanpaolo</td>\n      <td>0.70</td>\n    </tr>\n    <tr>\n      <th>1</th>\n      <td>banca-popolare-di-milano</td>\n      <td>0.61</td>\n    </tr>\n    <tr>\n      <th>5</th>\n      <td>unicredit</td>\n      <td>0.59</td>\n    </tr>\n    <tr>\n      <th>3</th>\n      <td>ing-direct</td>\n      <td>0.58</td>\n    </tr>\n    <tr>\n      <th>7</th>\n      <td>credit-agricole</td>\n      <td>0.57</td>\n    </tr>\n    <tr>\n      <th>2</th>\n      <td>bnl</td>\n      <td>0.31</td>\n    </tr>\n    <tr>\n      <th>0</th>\n      <td>monte-dei-paschi-di-siena</td>\n      <td>0.16</td>\n    </tr>\n  </tbody>\n</table>\n</div>"
     },
     "execution_count": 67,
     "metadata": {},
     "output_type": "execute_result"
    }
   ],
   "source": [
    "all_scores_mortgage_1988.loc[:, ['bank', 'final_score']].sort_values(by='final_score', ascending=False)"
   ],
   "metadata": {
    "collapsed": false,
    "ExecuteTime": {
     "end_time": "2023-08-05T14:28:17.339521Z",
     "start_time": "2023-08-05T14:28:17.272116Z"
    }
   }
  },
  {
   "cell_type": "code",
   "execution_count": 68,
   "outputs": [
    {
     "data": {
      "text/plain": "                        bank  final_score\n4            intesa-sanpaolo         0.70\n1   banca-popolare-di-milano         0.61\n5                  unicredit         0.59\n3                 ing-direct         0.58\n2                        bnl         0.31\n0  monte-dei-paschi-di-siena         0.16",
      "text/html": "<div>\n<style scoped>\n    .dataframe tbody tr th:only-of-type {\n        vertical-align: middle;\n    }\n\n    .dataframe tbody tr th {\n        vertical-align: top;\n    }\n\n    .dataframe thead th {\n        text-align: right;\n    }\n</style>\n<table border=\"1\" class=\"dataframe\">\n  <thead>\n    <tr style=\"text-align: right;\">\n      <th></th>\n      <th>bank</th>\n      <th>final_score</th>\n    </tr>\n  </thead>\n  <tbody>\n    <tr>\n      <th>4</th>\n      <td>intesa-sanpaolo</td>\n      <td>0.70</td>\n    </tr>\n    <tr>\n      <th>1</th>\n      <td>banca-popolare-di-milano</td>\n      <td>0.61</td>\n    </tr>\n    <tr>\n      <th>5</th>\n      <td>unicredit</td>\n      <td>0.59</td>\n    </tr>\n    <tr>\n      <th>3</th>\n      <td>ing-direct</td>\n      <td>0.58</td>\n    </tr>\n    <tr>\n      <th>2</th>\n      <td>bnl</td>\n      <td>0.31</td>\n    </tr>\n    <tr>\n      <th>0</th>\n      <td>monte-dei-paschi-di-siena</td>\n      <td>0.16</td>\n    </tr>\n  </tbody>\n</table>\n</div>"
     },
     "execution_count": 68,
     "metadata": {},
     "output_type": "execute_result"
    }
   ],
   "source": [
    "all_scores_mortgage_1998.loc[:, ['bank', 'final_score']].sort_values(by='final_score', ascending=False)"
   ],
   "metadata": {
    "collapsed": false,
    "ExecuteTime": {
     "end_time": "2023-08-05T14:28:21.109392Z",
     "start_time": "2023-08-05T14:28:21.082630Z"
    }
   }
  },
  {
   "cell_type": "code",
   "execution_count": null,
   "outputs": [],
   "source": [],
   "metadata": {
    "collapsed": false
   }
  }
 ],
 "metadata": {
  "kernelspec": {
   "display_name": "Python 3",
   "language": "python",
   "name": "python3"
  },
  "language_info": {
   "codemirror_mode": {
    "name": "ipython",
    "version": 2
   },
   "file_extension": ".py",
   "mimetype": "text/x-python",
   "name": "python",
   "nbconvert_exporter": "python",
   "pygments_lexer": "ipython2",
   "version": "2.7.6"
  }
 },
 "nbformat": 4,
 "nbformat_minor": 0
}
